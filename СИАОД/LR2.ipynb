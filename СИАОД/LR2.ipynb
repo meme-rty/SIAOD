{
 "cells": [
  {
   "cell_type": "markdown",
   "metadata": {},
   "source": [
    "# Лабораторная работа №2. Методы поиска.\n",
    "## Выполнила студентка группы БСТ2004 Шадюк Мария\n",
    "Реализовать методы поиска в соответствии с заданием. Организовать генерацию начального набора случайных данных. Для всех вариантов добавить реализацию добавления, поиска и удаления элементов. Оценить время работы каждого алгоритма поиска и сравнить его со временем работы стандартной функции поиска, используемой в выбранном языке программирования."
   ]
  },
  {
   "cell_type": "markdown",
   "metadata": {},
   "source": [
    "### Задание №1\n",
    "Бинарный поиск, бинарное дерево, Фибоначчиев, Интерполяционный"
   ]
  },
  {
   "cell_type": "markdown",
   "metadata": {},
   "source": [
    "#### Бинарный поиск"
   ]
  },
  {
   "cell_type": "code",
   "execution_count": 23,
   "metadata": {},
   "outputs": [],
   "source": [
    "def binary_search(arr, key):\n",
    "  # Определяем верхнюю и нижнюю границы поиска\n",
    "    low = 0\n",
    "    high = len(arr)-1\n",
    "  # Пока между ними не останется один элемент\n",
    "    while low <= high:\n",
    "    # Находим средний элемент\n",
    "        middle = (low + high) // 2\n",
    "    # Сравниваем с искомым\n",
    "        if arr[middle] == key:\n",
    "            return middle\n",
    "        else:\n",
    "            # Если не совпал изменяем либо нижнюю либо верхнюю границу\n",
    "            if arr[middle]>key:\n",
    "                high = middle-1\n",
    "            else: \n",
    "                low = middle+1\n",
    "\n",
    "\n",
    "  # Значение не найдено\n",
    "    return None\n",
    "\n",
    "def addItem_binSearch(arr, key):\n",
    "    index = binary_search(arr,key)\n",
    "    if index != None and arr[index] == key:\n",
    "        print(\"Такой элемент уже существует\")\n",
    "    else: \n",
    "        i = 0\n",
    "        while i<len(arr):\n",
    "            # меньше первого\n",
    "            if key<arr[0]:\n",
    "                arr.insert(0,key)\n",
    "            # больше последнего    \n",
    "            if key>arr[len(arr)-1]:\n",
    "                arr.insert(len(arr),key)\n",
    "            # где-то по середине    \n",
    "            if key>arr[i] and key<arr[i+1]:\n",
    "                arr.insert(i+1,key)\n",
    "            i+=1\n",
    "    return arr\n",
    "\n",
    "def deleteItem_binSearch(arr,key):\n",
    "    index = binary_search(arr,key)\n",
    "    if index == None:\n",
    "        print(\"Такой элемент не существует\")\n",
    "    else: \n",
    "        arr.pop(index)\n",
    "    return arr"
   ]
  },
  {
   "cell_type": "code",
   "execution_count": 24,
   "metadata": {},
   "outputs": [
    {
     "name": "stdout",
     "output_type": "stream",
     "text": [
      "[68, 610, 819, 5800, 6350, 7761, 8715, 8734]\n"
     ]
    }
   ],
   "source": [
    "import random\n",
    "n=8\n",
    "Array = [random.randint(-250, 10122) for i in range(n)]\n",
    "Array.sort()\n",
    "print(Array)"
   ]
  },
  {
   "cell_type": "code",
   "execution_count": 25,
   "metadata": {},
   "outputs": [
    {
     "name": "stdout",
     "output_type": "stream",
     "text": [
      "None\n"
     ]
    }
   ],
   "source": [
    "c = binary_search(Array,746)\n",
    "print(c)"
   ]
  },
  {
   "cell_type": "code",
   "execution_count": 26,
   "metadata": {},
   "outputs": [
    {
     "name": "stdout",
     "output_type": "stream",
     "text": [
      "[68, 610, 819, 1000, 5800, 6350, 7761, 8715, 8734]\n"
     ]
    }
   ],
   "source": [
    "Array = addItem_binSearch(Array,1000)\n",
    "print(Array)"
   ]
  },
  {
   "cell_type": "code",
   "execution_count": 27,
   "metadata": {},
   "outputs": [
    {
     "name": "stdout",
     "output_type": "stream",
     "text": [
      "Такой элемент не существует\n",
      "[68, 610, 819, 1000, 5800, 6350, 7761, 8715, 8734]\n"
     ]
    }
   ],
   "source": [
    "Array = deleteItem_binSearch(Array,781)\n",
    "print(Array)"
   ]
  },
  {
   "cell_type": "markdown",
   "metadata": {},
   "source": [
    "#### Бинарное дерево"
   ]
  },
  {
   "cell_type": "code",
   "execution_count": 28,
   "metadata": {},
   "outputs": [],
   "source": [
    "class Node:\n",
    "    # конструктор\n",
    "    def __init__(self, key):\n",
    "        self.key = key\n",
    "        \n",
    "        self.left = self.right = None\n",
    "\n",
    "    # создание вершин       \n",
    "    def insert(self, key):\n",
    "        # Если корневой элемент существует\n",
    "        if self.key:\n",
    "            # Если ключ меньше значения в узле добавляем его в левую ветку\n",
    "            if key < self.key:\n",
    "                # если ветка пустая то создаем в ней новый узел\n",
    "                if self.left is None:\n",
    "                    self.left = Node(key)\n",
    "                else:\n",
    "                    # если не пустая то вызываем для нового узла эту функцию\n",
    "                    self.left.insert(key)\n",
    "            elif key >= self.key:\n",
    "                if self.right is None:\n",
    "                    self.right = Node(key)\n",
    "                else:\n",
    "                    self.right.insert(key)\n",
    "        #узел принимает знач ключа\n",
    "        else:\n",
    "            self.key = key\n",
    "    def show(self):\n",
    "        if self.left:\n",
    "            self.left.show()\n",
    "        print( self.key),\n",
    "        if self.right:\n",
    "            self.right.show()\n",
    "    \n",
    "    def search(self,key):\n",
    "        if self.key:\n",
    "            # если ключ совпадает со значением узла то элемент найден\n",
    "            if self.key==key:\n",
    "                print(\"Элемент найден\")\n",
    "                return \n",
    "            if key< self.key:\n",
    "                # если ветка пустая, то элемента в ней нет\n",
    "                if self.left is None:\n",
    "                    print(\"Элемент не найден\")\n",
    "                    return\n",
    "                # Если не пустая то вызываем эту функцию для нового узла\n",
    "                self.left.search(key)\n",
    "            else:\n",
    "                if self.right is None:\n",
    "                    print(\"Элемент не найден\")\n",
    "                    return\n",
    "                self.right.search(key)\n",
    "        else:\n",
    "            print(\"Дерево пустое\")\n",
    "    def delete(self,key):\n",
    "        if self.key:\n",
    "            # Если ключ меньше значения узла\n",
    "            if key < self.key:\n",
    "                # Вызываем функцию для нового узла\n",
    "                self.left = self.left.delete(key)\n",
    "            elif key > self.key:\n",
    "                self.right = self.right.delete(key)\n",
    "                # если у узла есть обе ветки, помещаем в узел наименьший элемент из правой ветки и удаляем его из ветки\n",
    "            elif self.left != None and self.right != None:\n",
    "                self.key = min(self.right).key\n",
    "                self.right = self.right.delete(self.key)\n",
    "            else:\n",
    "                # если есть только левая ветка, элемент удаляетя при этом узел левой ветки становится на его место\n",
    "                if self.left != None:\n",
    "                    self = self.left\n",
    "                elif self.right != None:\n",
    "                    self = self.right\n",
    "                else:\n",
    "                    self = None\n",
    "        return self"
   ]
  },
  {
   "cell_type": "code",
   "execution_count": 29,
   "metadata": {},
   "outputs": [
    {
     "name": "stdout",
     "output_type": "stream",
     "text": [
      "-1\n",
      "2\n",
      "5\n",
      "6\n",
      "8\n",
      "99\n",
      "\n"
     ]
    },
    {
     "ename": "AttributeError",
     "evalue": "'Node' object has no attribute 'searchinsert'",
     "output_type": "error",
     "traceback": [
      "\u001b[1;31m---------------------------------------------------------------------------\u001b[0m",
      "\u001b[1;31mAttributeError\u001b[0m                            Traceback (most recent call last)",
      "\u001b[1;32mc:\\Users\\3007l\\OneDrive\\Рабочий стол\\СИАОД\\LR2.ipynb Cell 11'\u001b[0m in \u001b[0;36m<module>\u001b[1;34m\u001b[0m\n\u001b[0;32m      <a href='vscode-notebook-cell:/c%3A/Users/3007l/OneDrive/%D0%A0%D0%B0%D0%B1%D0%BE%D1%87%D0%B8%D0%B9%20%D1%81%D1%82%D0%BE%D0%BB/%D0%A1%D0%98%D0%90%D0%9E%D0%94/LR2.ipynb#ch0000010?line=7'>8</a>\u001b[0m Tree\u001b[39m.\u001b[39mshow()\n\u001b[0;32m      <a href='vscode-notebook-cell:/c%3A/Users/3007l/OneDrive/%D0%A0%D0%B0%D0%B1%D0%BE%D1%87%D0%B8%D0%B9%20%D1%81%D1%82%D0%BE%D0%BB/%D0%A1%D0%98%D0%90%D0%9E%D0%94/LR2.ipynb#ch0000010?line=8'>9</a>\u001b[0m \u001b[39mprint\u001b[39m()\n\u001b[1;32m---> <a href='vscode-notebook-cell:/c%3A/Users/3007l/OneDrive/%D0%A0%D0%B0%D0%B1%D0%BE%D1%87%D0%B8%D0%B9%20%D1%81%D1%82%D0%BE%D0%BB/%D0%A1%D0%98%D0%90%D0%9E%D0%94/LR2.ipynb#ch0000010?line=9'>10</a>\u001b[0m Tree\u001b[39m.\u001b[39;49msearchinsert(\u001b[39m2\u001b[39m)\n\u001b[0;32m     <a href='vscode-notebook-cell:/c%3A/Users/3007l/OneDrive/%D0%A0%D0%B0%D0%B1%D0%BE%D1%87%D0%B8%D0%B9%20%D1%81%D1%82%D0%BE%D0%BB/%D0%A1%D0%98%D0%90%D0%9E%D0%94/LR2.ipynb#ch0000010?line=10'>11</a>\u001b[0m Tree\u001b[39m.\u001b[39mshow()\n\u001b[0;32m     <a href='vscode-notebook-cell:/c%3A/Users/3007l/OneDrive/%D0%A0%D0%B0%D0%B1%D0%BE%D1%87%D0%B8%D0%B9%20%D1%81%D1%82%D0%BE%D0%BB/%D0%A1%D0%98%D0%90%D0%9E%D0%94/LR2.ipynb#ch0000010?line=11'>12</a>\u001b[0m \u001b[39mprint\u001b[39m()\n",
      "\u001b[1;31mAttributeError\u001b[0m: 'Node' object has no attribute 'searchinsert'"
     ]
    }
   ],
   "source": [
    "Tree = Node(5)\n",
    "Tree.insert(8)\n",
    "Tree.insert(6)\n",
    "Tree.insert(2)\n",
    "Tree.insert(-1)\n",
    "Tree.insert(99)\n",
    "\n",
    "Tree.show()\n",
    "print()\n",
    "Tree.search(2)\n",
    "Tree.show()\n",
    "print()\n",
    "Tree.delete(-1)\n",
    "Tree.show()"
   ]
  },
  {
   "cell_type": "markdown",
   "metadata": {},
   "source": [
    "#### Фибоначчиев поиск"
   ]
  },
  {
   "cell_type": "code",
   "execution_count": null,
   "metadata": {},
   "outputs": [],
   "source": [
    "def fibonacciSearch(arr,key):\n",
    "    f1=0\n",
    "    f2=1\n",
    "    summa = 0\n",
    "    # пока числа фибоначчи не выходят за пределы массива и пока ключ больше элемента в массиве\n",
    "    while summa<len(arr) and key>=arr[summa]:\n",
    "        # если они равны - элемент найден\n",
    "        if arr[summa]==key:\n",
    "            print(\"Элемент найден\")\n",
    "            return 1\n",
    "        # находим следующее число фибоначчи\n",
    "        summa = f1+f2\n",
    "        f1=f2\n",
    "        f2=summa\n",
    "    # если массив стал одним эл-м, то ничего не найдено\n",
    "    if summa==f1:\n",
    "        print(\"Элемент не найден\")\n",
    "        return None\n",
    "    # если число фибоначчи больше массива, то берем самый крайний\n",
    "    if summa>len(arr):\n",
    "        summa = len(arr)\n",
    "    i=0\n",
    "    # нижняя граница не считается\n",
    "    j=f1+1\n",
    "    newArr = [0]*(summa-f1-1)\n",
    "    # новый массив из промежутков фибаначчи \n",
    "    while j>f1 and j< summa:       \n",
    "        newArr[i] = arr[j]\n",
    "        j+=1\n",
    "        i+=1\n",
    "    # в новом промежутке все по новой\n",
    "    index = fibonacciSearch(newArr,key)\n",
    "    if index:\n",
    "        return index    "
   ]
  },
  {
   "cell_type": "code",
   "execution_count": null,
   "metadata": {},
   "outputs": [],
   "source": [
    "# Добавление значений в массив\n",
    "def addItem_fibonacciSearch(arr, key):\n",
    "    index = fibonacciSearch(arr,key)\n",
    "    if index != None and arr[index] == key:\n",
    "        print(\"Такой элемент уже существует\")\n",
    "    else: \n",
    "        i = 0\n",
    "        while i<len(arr):\n",
    "            # если эл-т меньше первого, то ставим его первым\n",
    "            if key<arr[0]:\n",
    "                arr.insert(0,key)\n",
    "            # если эл-т больше последнего, ставим на последнее место\n",
    "            if key>arr[len(arr)-1]:\n",
    "                arr.insert(len(arr),key)\n",
    "            # что-то между \n",
    "            if key>arr[i] and key<arr[i+1]:\n",
    "                arr.insert(i+1,key)\n",
    "            i+=1\n",
    "    return arr\n",
    "# тут удаляем, что хочется\n",
    "def deleteItem_fibonacciSearch(arr,key):\n",
    "    index = fibonacciSearch(arr,key)\n",
    "    if index:\n",
    "        for m in range(len(arr)):\n",
    "            if key == arr[m]:\n",
    "                arr.pop(m)\n",
    "                return arr\n",
    "        \n",
    "# на случай, если нет того, что хотим удалить    \n",
    "    else:\n",
    "        print(\"Такого элемента не существует\")\n",
    "    return arr"
   ]
  },
  {
   "cell_type": "code",
   "execution_count": null,
   "metadata": {},
   "outputs": [
    {
     "name": "stdout",
     "output_type": "stream",
     "text": [
      "[-182, -116, -51, 28, 78, 148, 160, 463, 515, 892]\n"
     ]
    }
   ],
   "source": [
    "# генерируем массив\n",
    "import random\n",
    "n=10\n",
    "ArrayFib = [random.randint(-250, 1016) for i in range(n)]\n",
    "ArrayFib.sort()\n",
    "print(ArrayFib)"
   ]
  },
  {
   "cell_type": "code",
   "execution_count": null,
   "metadata": {},
   "outputs": [
    {
     "name": "stdout",
     "output_type": "stream",
     "text": [
      "[-182, -116, -51, 28, 78, 148, 160, 463, 515, 892]\n",
      "Элемент не найден\n",
      "None\n"
     ]
    }
   ],
   "source": [
    "# проверяем фибаначчи\n",
    "print(ArrayFib)\n",
    "n = fibonacciSearch(ArrayFib,298)\n",
    "print(n)"
   ]
  },
  {
   "cell_type": "code",
   "execution_count": null,
   "metadata": {},
   "outputs": [
    {
     "name": "stdout",
     "output_type": "stream",
     "text": [
      "Элемент не найден\n",
      "Такого элемента не существует\n",
      "[-182, -116, -51, 28, 78, 148, 160, 463, 515, 892]\n"
     ]
    }
   ],
   "source": [
    "# удаляем методом ффибаначчи поиска\n",
    "ArrayFib = deleteItem_fibonacciSearch(ArrayFib, 939)\n",
    "print(ArrayFib)"
   ]
  },
  {
   "cell_type": "code",
   "execution_count": null,
   "metadata": {},
   "outputs": [
    {
     "name": "stdout",
     "output_type": "stream",
     "text": [
      "Элемент не найден\n",
      "[-182, -116, -51, 28, 78, 148, 160, 463, 505, 515, 892]\n"
     ]
    }
   ],
   "source": [
    "# аналогично добавляем\n",
    "ArrayFib = addItem_fibonacciSearch(ArrayFib,505)\n",
    "print(ArrayFib)"
   ]
  },
  {
   "cell_type": "markdown",
   "metadata": {},
   "source": [
    "#### Интерполяционный поиск"
   ]
  },
  {
   "cell_type": "code",
   "execution_count": null,
   "metadata": {},
   "outputs": [],
   "source": [
    "def interpolation_search(arr, key):\n",
    "  # Определяем границы поиска\n",
    "    low = 0\n",
    "    high = len(arr)-1\n",
    "  # Пока между ними не останется один элемент\n",
    "    while low <= high and arr[low] <= key and key <= arr[high]:\n",
    "    # Находим средний элемент\n",
    "    #сама формула\n",
    "        middle = low+((key-arr[low])*(high-low)//(arr[high]-arr[low]))\n",
    "        if arr[middle]==key:\n",
    "            return middle  \n",
    "        elif arr[middle]<key: \n",
    "            low = middle+1\n",
    "        else:\n",
    "             high = middle-1\n",
    "                      \n",
    "    return None\n",
    "\n",
    "# для добавления значения\n",
    "def addItem_interpolationSearch(arr, key):\n",
    "    index = interpolation_search(arr,key)\n",
    "    if index != None and arr[index] == key:\n",
    "        print(\"Такой элемент уже существует\")\n",
    "    else: \n",
    "        i = 0\n",
    "        while i<len(arr):\n",
    "            # если данный эл-т меньше первого, ставим его первым\n",
    "            if key<arr[0]:\n",
    "                arr.insert(0,key)\n",
    "            # если данный эл-т больше последнего, ставим его последним\n",
    "            if key>arr[len(arr)-1]:\n",
    "                arr.insert(len(arr),key)\n",
    "            # что-то между\n",
    "            if key>arr[i] and key<arr[i+1]:\n",
    "                arr.insert(i+1,key)\n",
    "            i+=1\n",
    "    return arr\n",
    "\n",
    "# удаление\n",
    "def deleteItem_interpolationSearch(arr,key):\n",
    "    index = interpolation_search(arr,key)\n",
    "    if index == None:\n",
    "        print(\"Такой элемент не существует\")\n",
    "    else: \n",
    "        arr.pop(index)\n",
    "    return arr"
   ]
  },
  {
   "cell_type": "code",
   "execution_count": null,
   "metadata": {},
   "outputs": [
    {
     "name": "stdout",
     "output_type": "stream",
     "text": [
      "[-220, -217, -207, -138, -54, 16, 257, 725, 732, 887]\n"
     ]
    }
   ],
   "source": [
    "# генерируем массив\n",
    "import random\n",
    "n=10\n",
    "ArrayInter = [random.randint(-250, 1016) for i in range(n)]\n",
    "ArrayInter.sort()\n",
    "print(ArrayInter)"
   ]
  },
  {
   "cell_type": "code",
   "execution_count": null,
   "metadata": {},
   "outputs": [
    {
     "name": "stdout",
     "output_type": "stream",
     "text": [
      "None\n"
     ]
    }
   ],
   "source": [
    "# поиск числа 997\n",
    "p = interpolation_search(ArrayInter,997)\n",
    "print(p)"
   ]
  },
  {
   "cell_type": "code",
   "execution_count": null,
   "metadata": {},
   "outputs": [
    {
     "name": "stdout",
     "output_type": "stream",
     "text": [
      "[-220, -217, -207, -138, -54, 16, 257, 500, 725, 732, 887]\n"
     ]
    }
   ],
   "source": [
    "# захотели добавить число 500\n",
    "ArrayInter = addItem_interpolationSearch(ArrayInter,500)\n",
    "print(ArrayInter)"
   ]
  },
  {
   "cell_type": "code",
   "execution_count": null,
   "metadata": {},
   "outputs": [
    {
     "name": "stdout",
     "output_type": "stream",
     "text": [
      "Такой элемент не существует\n",
      "[-220, -217, -207, -138, -54, 16, 257, 500, 725, 732, 887]\n"
     ]
    }
   ],
   "source": [
    "# захотели удалить число 872\n",
    "ArrayInter = deleteItem_interpolationSearch(ArrayInter,872)\n",
    "print(ArrayInter)"
   ]
  },
  {
   "cell_type": "markdown",
   "metadata": {},
   "source": [
    "### Задание №2"
   ]
  },
  {
   "cell_type": "markdown",
   "metadata": {},
   "source": [
    "#### Простое рехеширование"
   ]
  },
  {
   "cell_type": "code",
   "execution_count": 30,
   "metadata": {},
   "outputs": [],
   "source": [
    "#Простое рехэширование\n",
    "class HashMap:\n",
    "    def __init__(self):\n",
    "        self.size = 0\n",
    "        self.data = []\n",
    "        self._resize()\n",
    "    \n",
    "    def _hash(self, key, i):\n",
    "        return (hash(key) + i) % len(self.data)\n",
    "        \n",
    "    def _find(self, key):\n",
    "        i = 0\n",
    "        index = self._hash(key, i)\n",
    "        while self.data[index] is not None and self.data[index][0] != key:\n",
    "            i += 1\n",
    "            index = self._hash(key, i)\n",
    "        return index\n",
    "    \n",
    "    def _resize(self):\n",
    "        temp = self.data\n",
    "        self.data = [None] * (2*len(self.data) + 1)\n",
    "        for item in temp:\n",
    "            if item is not None:\n",
    "                self.data[self._find(item[0])] = item\n",
    "    \n",
    "    def __setitem__(self, key, value):\n",
    "        if self.size + 1 > len(self.data) // 2:\n",
    "            self._resize()\n",
    "        index = self._find(key)\n",
    "        if self.data[index] is None:  \n",
    "            self.size += 1\n",
    "        self.data[index] = (key, value)\n",
    "    \n",
    "    def __getitem__(self, key):\n",
    "        index = self._find(key)\n",
    "        if self.data[index] is not None:\n",
    "            return self.data[index][1]\n",
    "        raise KeyError()"
   ]
  },
  {
   "cell_type": "code",
   "execution_count": null,
   "metadata": {},
   "outputs": [],
   "source": []
  },
  {
   "cell_type": "markdown",
   "metadata": {},
   "source": [
    "#### Рехеширование с помощью псевдосучайных чисел"
   ]
  },
  {
   "cell_type": "code",
   "execution_count": null,
   "metadata": {},
   "outputs": [],
   "source": [
    "class RandomHashMap:\n",
    "    def Fhash2 (a, id, i):\n",
    "        import random\n",
    "        i=i+1\n",
    "        if i<63:\n",
    "            n=64\n",
    "            hash = (ord(id[0])+ord(id[len(id)//2])+ord(id[len(id)-1])+random.randint(0, 1500))//n\n",
    "            if a[hash] == None:\n",
    "                a[hash]=id\n",
    "            else:\n",
    "                k=hash\n",
    "                while (a[hash]!=None):\n",
    "                    hash = (ord(id[0])+ord(id[len(id)//2])+ord(id[len(id)-1])+random.randint(0, 1500))//n\n",
    "\n",
    "        else:\n",
    "            print (\"места нет\")\n",
    "        return a\n",
    "    def Fhashsearch2(a, id):\n",
    "        i=0\n",
    "        while i<63 and a[i]!=id:\n",
    "            i=i+1\n",
    "        if a[i]==id:\n",
    "            return i\n",
    "        else:\n",
    "             print (\"Идентификатор не найден\") \n",
    "    def FhashDel2(a, id):\n",
    "        i=0\n",
    "        while i<63 and a[i]!=id:\n",
    "            i=i+1\n",
    "        if a[i]==id:\n",
    "            a[i]=None\n",
    "            return a\n",
    "        else:\n",
    "             print (\"Идентификатор не найден\")"
   ]
  },
  {
   "cell_type": "code",
   "execution_count": null,
   "metadata": {},
   "outputs": [
    {
     "name": "stdout",
     "output_type": "stream",
     "text": [
      "Хотите добавить новый идентификатор в таблицу?\n",
      "[None, None, None, None, None, None, None, None, None, None, None, None, None, None, None, None, None, None, None, None, None, None, None, None, None, None, None, None, None, None, None, None, None, None, None, None, None, None, None, None, None, None, None, None, None, None, None, None, None, None, None, None, None, None, None, None, None, None, None, None, None, None, None, None]\n",
      "Хотите найти идентификатор в таблице?\n"
     ]
    }
   ],
   "source": [
    "a=[None]*64\n",
    "i=0\n",
    "print (\"Хотите добавить новый идентификатор в таблицу?\")\n",
    "s=(input())\n",
    "if s == \"да\":\n",
    "    while s ==\"да\":\n",
    "        id=(input())\n",
    "        RandomHashMap.Fhash2 (a, id, i)\n",
    "        print (\"Хотите добавить новый идентификатор в таблицу?\")\n",
    "        s=(input())\n",
    "print (a)\n",
    "print (\"Хотите найти идентификатор в таблице?\")\n",
    "k=(input())\n",
    "if k == \"да\":\n",
    "    while k ==\"да\":\n",
    "        id=(input())\n",
    "        hash =RandomHashMap.Fhashsearch2 (a, id)\n",
    "        print (hash)\n",
    "        print (\"Хотите найти идентификатор в таблице?\")\n",
    "        k=(input())\n",
    "    if hash!= None:\n",
    "        print (\"Хотите удалить идентификатор из таблицы?\")\n",
    "        k=(input())\n",
    "        if k == \"да\":\n",
    "            RandomHashMap.Fhashdel2 (a, id)\n",
    "            print (a)"
   ]
  },
  {
   "cell_type": "markdown",
   "metadata": {},
   "source": [
    "#### Метод цепочек"
   ]
  },
  {
   "cell_type": "code",
   "execution_count": null,
   "metadata": {},
   "outputs": [],
   "source": [
    "class ChainMap:\n",
    "    def Chainmethod (arr, id):\n",
    "        h=0\n",
    "        for i in range (0, len(id)):\n",
    "            h=ord(id[i])+h\n",
    "        key=h%10\n",
    "        arr[key].append(id)\n",
    "        return key\n",
    "    def ChainmethodSearch (a, id):\n",
    "        h=0\n",
    "        for i in range (0, len(id)):\n",
    "            h=ord(id[i])+h\n",
    "        key=h%10\n",
    "        k=0\n",
    "        for i in range (len(a[key])):\n",
    "            if a[key][i]==id:\n",
    "                print(\"Строка \", key, \"Элемент \", i)\n",
    "                k=1\n",
    "        if k==0:\n",
    "            print(\"Идентификатор не найден\")\n",
    "            return (1)\n",
    "\n",
    "    def ChainmethodDeletions (a, id):\n",
    "        h=0\n",
    "        for i in range (0, len(id)):\n",
    "            h=ord(id[i])+h\n",
    "        key=h%10\n",
    "        for i in range (len(a[key])):\n",
    "            if a[key][i]==id:\n",
    "                del(a[key][i])\n",
    "        return (key)"
   ]
  },
  {
   "cell_type": "code",
   "execution_count": null,
   "metadata": {},
   "outputs": [
    {
     "name": "stdout",
     "output_type": "stream",
     "text": [
      "Хотите добавить новый идентификатор в таблицу?\n",
      "[[], [], [], [], [], [], [], [], [], []]\n",
      "Хотите найти идентификатор в таблице?\n"
     ]
    }
   ],
   "source": [
    "key=[[]*1 for i in range (10)]\n",
    "print (\"Хотите добавить новый идентификатор в таблицу?\")\n",
    "s=(input())\n",
    "if s == \"да\":\n",
    "    while s ==\"да\":\n",
    "        id=(input())\n",
    "        x=ChainMap.Chainmethod (key, id)\n",
    "        print (\"Хотите добавить новый идентификатор в таблицу?\")\n",
    "        s=(input())\n",
    "print (key)\n",
    "\n",
    "print (\"Хотите найти идентификатор в таблице?\")\n",
    "k=(input())\n",
    "if k == \"да\":\n",
    "    while k ==\"да\":\n",
    "        id=(input())\n",
    "        hash =ChainMap.ChainmethodSearch (key, id)\n",
    "        print (\"Хотите найти идентификатор в таблице?\")\n",
    "        k=(input())\n",
    "    if hash!= 1:\n",
    "        print (\"Хотите удалить идентификатор из таблицы?\")\n",
    "        k=(input())\n",
    "        if k == \"да\":\n",
    "            hash =ChainMap.ChainmethodDeletions (key, id)\n",
    "            print (key)"
   ]
  },
  {
   "cell_type": "markdown",
   "metadata": {},
   "source": [
    "### Задание №3\n",
    "Расставить на стандартной 64-клеточной шахматной доске 8 ферзей так, чтобы ни один из них не находился под боем другого». Подразумевается, что ферзь бьёт все клетки, расположенные по вертикалям, горизонталям и обеим диагоналям\n",
    "Написать программу,  которая находит хотя бы один способ решения задач.\n"
   ]
  },
  {
   "cell_type": "code",
   "execution_count": null,
   "metadata": {},
   "outputs": [],
   "source": [
    "#Проверяет поле на атаку другими ферзями\n",
    "def checkField(i,j,Queens):\n",
    "    r=i\n",
    "    c=j\n",
    "    #В столбце\n",
    "    for k in range(i):\n",
    "        if j == Queens[k]:\n",
    "            return False\n",
    "    # В ниспадающей диагонали    \n",
    "    while i>=0 and j>=0:\n",
    "        if Queens[i]==j:\n",
    "            return False\n",
    "        i-=1\n",
    "        j-=1\n",
    "    # В растущей диагонали    \n",
    "    while r>=0 and c<=14:\n",
    "        if Queens[r]==c:\n",
    "            return False\n",
    "        r-=1\n",
    "        c+=1    \n",
    "    return True"
   ]
  },
  {
   "cell_type": "code",
   "execution_count": null,
   "metadata": {},
   "outputs": [
    {
     "name": "stdout",
     "output_type": "stream",
     "text": [
      "[1, 3, 5, 2, 9, 14, 10, 13, 4, 0, 7, 11, 6, 8, 12]\n"
     ]
    },
    {
     "data": {
      "text/plain": [
       "[[0, 1, 0, 0, 0, 0, 0, 0, 0, 0, 0, 0, 0, 0, 0],\n",
       " [0, 0, 0, 1, 0, 0, 0, 0, 0, 0, 0, 0, 0, 0, 0],\n",
       " [0, 0, 0, 0, 0, 1, 0, 0, 0, 0, 0, 0, 0, 0, 0],\n",
       " [0, 0, 1, 0, 0, 0, 0, 0, 0, 0, 0, 0, 0, 0, 0],\n",
       " [0, 0, 0, 0, 0, 0, 0, 0, 0, 1, 0, 0, 0, 0, 0],\n",
       " [0, 0, 0, 0, 0, 0, 0, 0, 0, 0, 0, 0, 0, 0, 1],\n",
       " [0, 0, 0, 0, 0, 0, 0, 0, 0, 0, 1, 0, 0, 0, 0],\n",
       " [0, 0, 0, 0, 0, 0, 0, 0, 0, 0, 0, 0, 0, 1, 0],\n",
       " [0, 0, 0, 0, 1, 0, 0, 0, 0, 0, 0, 0, 0, 0, 0],\n",
       " [1, 0, 0, 0, 0, 0, 0, 0, 0, 0, 0, 0, 0, 0, 0],\n",
       " [0, 0, 0, 0, 0, 0, 0, 1, 0, 0, 0, 0, 0, 0, 0],\n",
       " [0, 0, 0, 0, 0, 0, 0, 0, 0, 0, 0, 1, 0, 0, 0],\n",
       " [0, 0, 0, 0, 0, 0, 1, 0, 0, 0, 0, 0, 0, 0, 0],\n",
       " [0, 0, 0, 0, 0, 0, 0, 0, 1, 0, 0, 0, 0, 0, 0],\n",
       " [0, 0, 0, 0, 0, 0, 0, 0, 0, 0, 0, 0, 1, 0, 0]]"
      ]
     },
     "execution_count": 26,
     "metadata": {},
     "output_type": "execute_result"
    }
   ],
   "source": [
    " # Queens - массив, в котором индекс это строка, значение это столбец, где стоит ферзь\n",
    "def findQueens(Queens=[0]*15, i=0):\n",
    "    # Если на доске уже 8 ферзей, то рекурсия останавливается\n",
    "    if i ==15:\n",
    "        arr = [[0 for i in range(15)] for j in range(15)]\n",
    "        for i in range(15):\n",
    "            for j in range(15):\n",
    "                arr[i][Queens[i]] = 1\n",
    "        print(Queens)\n",
    "        return arr\n",
    "    else:\n",
    "        for j in range(15):\n",
    "            # Проверяем свободно ли поле\n",
    "            if checkField(i,j,Queens):\n",
    "                # Если да, записываем координату ферзя \n",
    "                Queens[i]=j\n",
    "                # Снова вызываем функцию со следующей строки\n",
    "                chessBoard = findQueens(Queens,i+1)\n",
    "                # если переменная не пустая, выходим в предыдующую\n",
    "                #  функцию с этой перемееной\n",
    "                if chessBoard:\n",
    "                    return chessBoard\n",
    "                \n",
    "        \n",
    "findQueens()    "
   ]
  }
 ],
 "metadata": {
  "interpreter": {
   "hash": "2b4e5e32f13d8153412901d3702d3a1d9526e1396aa7ce6ffcd9866168680c5b"
  },
  "kernelspec": {
   "display_name": "Python 3.10.4 64-bit (windows store)",
   "language": "python",
   "name": "python3"
  },
  "language_info": {
   "codemirror_mode": {
    "name": "ipython",
    "version": 3
   },
   "file_extension": ".py",
   "mimetype": "text/x-python",
   "name": "python",
   "nbconvert_exporter": "python",
   "pygments_lexer": "ipython3",
   "version": "3.10.4"
  },
  "orig_nbformat": 4
 },
 "nbformat": 4,
 "nbformat_minor": 2
}
