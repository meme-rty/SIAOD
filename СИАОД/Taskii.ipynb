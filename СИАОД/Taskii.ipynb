{
 "cells": [
  {
   "cell_type": "markdown",
   "metadata": {},
   "source": [
    "таск \"плохие цены\" 1100"
   ]
  },
  {
   "cell_type": "markdown",
   "metadata": {},
   "source": [
    "Условие:\n",
    "Поликарп анализирует цену на новую модель berPhone. В его распоряжении цены за n последних дней: a1,a2,…,an, где ai — цена berPhone в день i. Поликарп считает цену в день i плохой, если позже (то есть в день с большим номером) berPhone продавался по меньшей цене. Например, если n=6 и a=[3,9,4,6,7,5], то количество дней с плохой ценой равно 3 — это дни 2 (a2=9), 4 (a4=6) и 5 (a5=7). Выведите количество дней с плохой ценой по мнению Поликарпа. Вам необходимо ответить на t независимых наборов входных данных."
   ]
  },
  {
   "cell_type": "markdown",
   "metadata": {},
   "source": [
    "Выполнение:\n",
    "Двигаемся по массиву справа налево и запоминаем минимальную встречающуюся стоимость. Если стоимость выше минимальной мы увеличиваем счетчик дней с плохой ценой, если же стоимость меньше минимальной, то обновляем значение минимальной цены."
   ]
  },
  {
   "cell_type": "code",
   "execution_count": null,
   "metadata": {},
   "outputs": [],
   "source": []
  },
  {
   "cell_type": "code",
   "execution_count": null,
   "metadata": {},
   "outputs": [],
   "source": [
    "def solve(n, arr):\n",
    "\n",
    "    min_price_on_right = int(arr[n-1])\n",
    "    bad_prices = 0\n",
    "\n",
    "    for i in range(n-2, -1, -1):\n",
    "\n",
    "        if int(arr[i]) > min_price_on_right:\n",
    "            bad_prices += 1\n",
    "        else:\n",
    "            min_price_on_right = int(arr[i])\n",
    "\n",
    "    return bad_prices\n",
    "\n",
    "\n",
    "if __name__ == \"__main__\":\n",
    "\n",
    "    t = int(input())\n",
    "\n",
    "    results = list()\n",
    "    for _ in range(0, t):\n",
    "        n = int(input())\n",
    "        arr = input().split(\" \")\n",
    "        results.append(solve(n, arr))\n",
    "\n",
    "    for result in results:\n",
    "        print(result)"
   ]
  }
 ],
 "metadata": {
  "interpreter": {
   "hash": "2b4e5e32f13d8153412901d3702d3a1d9526e1396aa7ce6ffcd9866168680c5b"
  },
  "kernelspec": {
   "display_name": "Python 3.10.4 64-bit (windows store)",
   "language": "python",
   "name": "python3"
  },
  "language_info": {
   "codemirror_mode": {
    "name": "ipython",
    "version": 3
   },
   "file_extension": ".py",
   "mimetype": "text/x-python",
   "name": "python",
   "nbconvert_exporter": "python",
   "pygments_lexer": "ipython3",
   "version": "3.10.4"
  },
  "orig_nbformat": 4
 },
 "nbformat": 4,
 "nbformat_minor": 2
}
