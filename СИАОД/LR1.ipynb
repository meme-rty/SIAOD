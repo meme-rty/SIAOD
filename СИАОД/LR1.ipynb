{
 "cells": [
  {
   "cell_type": "markdown",
   "metadata": {},
   "source": [
    "# Лаборатоная работа №1\n",
    "## Выполнила студентка группы БСТ2004 Шадюк Мария"
   ]
  },
  {
   "cell_type": "markdown",
   "metadata": {},
   "source": [
    "### Задание №1\n",
    "1. Создать Jupyter Notebook со следующим наименованием: Lab1_Группа_ФИО\n",
    "2. Создать новую ячейку с помощью кнопки +\n",
    "3. В созданной ячейке по указанной ниже форме заполните оглавление файла,\n",
    "заменив наименование группы и вписав свое ФИО, после чего создайте еще одну ячейку и напишите следующий код, выводящий надпись \"Hello World\"\n",
    "4. С помощью кнопки \"Run\" запустите выполнение всех ячеек.\n",
    "5. После выполнения у вас должна отформатироваться ячейка с оглавлением и должен выполниться “Hello, World!” "
   ]
  },
  {
   "cell_type": "code",
   "execution_count": 12,
   "metadata": {},
   "outputs": [
    {
     "name": "stdout",
     "output_type": "stream",
     "text": [
      "Hello World\n"
     ]
    }
   ],
   "source": [
    "print('Hello World')"
   ]
  },
  {
   "cell_type": "markdown",
   "metadata": {},
   "source": [
    "### Задание №2\n",
    "Написать генератор случайных матриц(многомерных), который принимает опциональные параметры m, n, min_limit, max_limit, где m и n указывают размер матрицы, а min_lim и max_lim - минимальное и максимальное значение для генерируемого числа . По умолчанию при отсутствии параметров принимать следующие значения:\n",
    "m = 50\n",
    "n = 50\n",
    "min_limit = -250\n",
    "max_limit = 1000 + (номер своего варианта)"
   ]
  },
  {
   "cell_type": "code",
   "execution_count": 13,
   "metadata": {},
   "outputs": [],
   "source": [
    "import numpy as np\n",
    "import timeit\n",
    "import math\n"
   ]
  },
  {
   "cell_type": "code",
   "execution_count": 14,
   "metadata": {},
   "outputs": [
    {
     "name": "stdout",
     "output_type": "stream",
     "text": [
      "[[ 7 -8  5 -2 -2]\n",
      " [-2  8 -2  1 -7]\n",
      " [-1  0  5  8 -9]\n",
      " [ 6  2 -1  1 -4]\n",
      " [ 1 -3  7  3  6]]\n"
     ]
    }
   ],
   "source": [
    "m=50\n",
    "n=50\n",
    "min_limit=-250\n",
    "max_limit=1022\n",
    "\n",
    "m2=input(\"\\n\\nВведите m: \")\n",
    "if len(m2)>0: m=int(m2)\n",
    "\n",
    "n2=input(\"Введите n: \")\n",
    "if len(n2)>0: n=int(n2)\n",
    "\n",
    "min_limit2=input(\"Введите минимальное значение: \")\n",
    "if len(min_limit2)>0: min_limit=int(min_limit2)\n",
    "\n",
    "max_limit2=input(\"Введите максимальное значение: \")\n",
    "if len(max_limit2)>0: max_limit=int(max_limit2)\n",
    "\n",
    "arr=np.random.randint(min_limit, max_limit,size=(m, n))\n",
    "print(arr)"
   ]
  },
  {
   "cell_type": "markdown",
   "metadata": {},
   "source": [
    "### Задание №3\n",
    "Реализовать методы сортировки строк числовой матрицы в соответствии с\n",
    "заданием. Оценить время работы каждого алгоритма сортировки и сравнить его со\n",
    "временем стандартной функции сортировки. Испытания проводить на сгенерированных\n",
    "матрицах.\n",
    "Методы: Выбором, Вставкой, Обменом, Шелла, Турнирная, Быстрая, Пирамидальная"
   ]
  },
  {
   "cell_type": "markdown",
   "metadata": {},
   "source": [
    "#### Сортировка выбором"
   ]
  },
  {
   "cell_type": "code",
   "execution_count": 15,
   "metadata": {},
   "outputs": [
    {
     "name": "stdout",
     "output_type": "stream",
     "text": [
      "[[-8 -2 -2  5  7]\n",
      " [-7 -2 -2  1  8]\n",
      " [-9 -1  0  5  8]\n",
      " [-4 -1  1  2  6]\n",
      " [-3  1  3  6  7]]\n"
     ]
    }
   ],
   "source": [
    "# Сортировка выбором\n",
    "def selection_sort(arr):\n",
    "    for row in range(len(arr)):\n",
    "        for i in range(0, len(arr[row]) - 1): \n",
    "            min_idx = i \n",
    "            for j in range(i+1, len(arr[row])): \n",
    "                if arr[row][min_idx] > arr[row][j]: \n",
    "                    min_idx = j \n",
    "            arr[row][i], arr[row][min_idx] = arr[row][min_idx], arr[row][i]\n",
    "\n",
    "selection_sort(arr)\n",
    "print(arr)\n"
   ]
  },
  {
   "cell_type": "markdown",
   "metadata": {},
   "source": [
    "#### Сортировка вставкой"
   ]
  },
  {
   "cell_type": "code",
   "execution_count": 16,
   "metadata": {},
   "outputs": [
    {
     "name": "stdout",
     "output_type": "stream",
     "text": [
      "[[-8 -2 -2  5  7]\n",
      " [-7 -2 -2  1  8]\n",
      " [-9 -1  0  5  8]\n",
      " [-4 -1  1  2  6]\n",
      " [-3  1  3  6  7]]\n"
     ]
    }
   ],
   "source": [
    "# Сортировка вставкой\n",
    "def insertion_sort(arr):\n",
    "    for row in range(len(arr)):\n",
    "        for i in range(1, len(arr[row])):\n",
    "            #кладем сюда значение ячейки, что бы потом вставить его в нужное место\n",
    "            temp = arr[row][i]              \n",
    "            j = i - 1\n",
    "            #этим циклом проверяем значение каждой ячейки слева от i,\n",
    "            # до тех пор пока не наткнемся на значение меньше данного \n",
    "            while (j>=0 and temp < arr[row][j]):\n",
    "                #здесь сдвигаем все направо пока не найдем меньше данного\n",
    "                arr[row][j + 1] = arr[row][j]\n",
    "                j -= 1\n",
    "            # сама вставка\n",
    "            arr[row][j+1]=temp\n",
    "\n",
    "insertion_sort(arr)\n",
    "print(arr)"
   ]
  },
  {
   "cell_type": "markdown",
   "metadata": {},
   "source": [
    "#### Сортировка обменом"
   ]
  },
  {
   "cell_type": "code",
   "execution_count": 17,
   "metadata": {},
   "outputs": [
    {
     "name": "stdout",
     "output_type": "stream",
     "text": [
      "[[-8 -2 -2  5  7]\n",
      " [-7 -2 -2  1  8]\n",
      " [-9 -1  0  5  8]\n",
      " [-4 -1  1  2  6]\n",
      " [-3  1  3  6  7]]\n"
     ]
    }
   ],
   "source": [
    "def bubble_sort(arr):\n",
    "    for row in range(len(arr)):\n",
    "        for j in range(len(arr[row])-1):\n",
    "            if arr[row][j + 1] < arr[row][j]:\n",
    "               arr[row][j],  arr[row][j + 1] =  arr[row][j + 1],  arr[row][j]\n",
    "                    \n",
    "bubble_sort(arr)\n",
    "print (arr)\n",
    "\n"
   ]
  },
  {
   "cell_type": "markdown",
   "metadata": {},
   "source": [
    "#### Сортировка Шелла"
   ]
  },
  {
   "cell_type": "code",
   "execution_count": 18,
   "metadata": {},
   "outputs": [
    {
     "name": "stdout",
     "output_type": "stream",
     "text": [
      "[[-8 -2 -2  5  7]\n",
      " [-7 -2 -2  1  8]\n",
      " [-9 -1  0  5  8]\n",
      " [-4 -1  1  2  6]\n",
      " [-3  1  3  6  7]]\n"
     ]
    }
   ],
   "source": [
    "def shellSort(array):\n",
    "    for row in range(len(array)):\n",
    "        n = len(array[row])         \n",
    "        k = int(math.log2(n))\n",
    "        interval = 2**k -1\n",
    "        # пока наш шаг больше 0 продолжаем цикл\n",
    "        while interval > 0:\n",
    "            for i in range(interval, n):\n",
    "                temp = array[row][i]\n",
    "                j = i\n",
    "                #сравниваем два массива находящихся на рассоянии в interval\n",
    "                while j >= interval and array[row][j - interval] > temp:\n",
    "                    #если значение в левой части больше значения в правой, то\n",
    "                    # меняем их местами\n",
    "                    array[row][j] = array[row][j - interval]\n",
    "                    j -= interval\n",
    "                array[row][j] = temp\n",
    "            k -= 1\n",
    "            interval = 2**k -1\n",
    "    return array\n",
    "\n",
    "shellSort(arr)\n",
    "print(arr)"
   ]
  },
  {
   "cell_type": "markdown",
   "metadata": {},
   "source": [
    "#### Быстрая сортировка"
   ]
  },
  {
   "cell_type": "code",
   "execution_count": 19,
   "metadata": {},
   "outputs": [
    {
     "name": "stdout",
     "output_type": "stream",
     "text": [
      "[[-8 -2 -2  5  7]\n",
      " [-7 -2 -2  1  8]\n",
      " [-9 -1  0  5  8]\n",
      " [-4 -1  1  2  6]\n",
      " [-3  1  3  6  7]]\n"
     ]
    }
   ],
   "source": [
    "def QuickSort(arr):\n",
    "    for i in range(len(arr)):\n",
    "        quickSort(0,len(arr[i])-1,arr,i)\n",
    "    return arr\n",
    "#обозначаем перыый последний и середину массива\n",
    "def quickSort(_first, _last, array, row):\n",
    "    first=int(_first)\n",
    "    last=int(_last)\n",
    "    middle=int((first+last)/2)\n",
    "    \n",
    "    while (first<last):\n",
    "        #пока число слева от миддл меньше, то переходим к следующему\n",
    "        while( array[row][first] < array[row][middle]): \n",
    "            first+=1\n",
    "        #пока крайнее число больше середины переходим к следующему\n",
    "        while( array[row][last] > array[row][middle]):\n",
    "            last-=1\n",
    "       #меняем местами массивы если первый меньше ласт\n",
    "        if(first<=last):\n",
    "            array[row][first],array[row][last]=array[row][last],array[row][first]\n",
    "            first+=1\n",
    "            last-=1\n",
    "    \n",
    "    if(_first<last):\n",
    "        quickSort(_first,last,array,row)\n",
    "    if(first<_last):\n",
    "        quickSort(first,_last,array,row)\n",
    "\n",
    "QuickSort(arr)\n",
    "print(arr)"
   ]
  },
  {
   "cell_type": "markdown",
   "metadata": {},
   "source": [
    "#### Пирамидальная сортировка"
   ]
  },
  {
   "cell_type": "code",
   "execution_count": 20,
   "metadata": {},
   "outputs": [
    {
     "name": "stdout",
     "output_type": "stream",
     "text": [
      "[[-8 -2 -2  5  7]\n",
      " [-7 -2 -2  1  8]\n",
      " [-9 -1  0  5  8]\n",
      " [-4 -1  1  2  6]\n",
      " [-3  1  3  6  7]]\n"
     ]
    }
   ],
   "source": [
    "#Пирамидальная сортировка\n",
    "def heapify(arr, n, i):\n",
    "    #соседи слева и справа\n",
    "    largest = i\n",
    "    l = 2 * i + 1 \n",
    "    r = 2 * i + 2\n",
    "\n",
    "    #меняем корневого на левого если левый больше\n",
    "    if l < n and arr[i] < arr[l]:\n",
    "        largest = l\n",
    "\n",
    "    #меняем корневого на правого если пр больше\n",
    "    if r < n and arr[largest] < arr[r]:\n",
    "        largest = r\n",
    "\n",
    "    if largest != i:\n",
    "        arr[i],arr[largest] = arr[largest],arr[i]\n",
    "\n",
    "        heapify(arr, n, largest)\n",
    "\n",
    "\n",
    "def HeapSort(arr):\n",
    "    for i in range(len(arr)):\n",
    "        #число по лен\n",
    "        n = len(arr[i])\n",
    "        #шагаем по массиву сортировкой числом от Н до -1, с шагом -1\n",
    "        for j in range(n, -1, -1):\n",
    "            heapify(arr[i], n, j)\n",
    "        #сама сортировка\n",
    "        for j in range(n-1, 0, -1):\n",
    "            arr[i][j], arr[i][0] = arr[i][0], arr[i][j] \n",
    "            heapify(arr[i], j, 0)\n",
    "    return arr\n",
    "HeapSort(arr)\n",
    "print(arr)\n",
    "\n"
   ]
  },
  {
   "cell_type": "code",
   "execution_count": 21,
   "metadata": {},
   "outputs": [
    {
     "name": "stdout",
     "output_type": "stream",
     "text": [
      "Сортировка выбором выполнилась за \n",
      "0.00022230000467970967\n",
      "Сортировка вставкой выполнилась за \n",
      "0.00017010000010486692\n",
      "Сортировка обменом выполнилась за \n",
      "0.00015230001008603722\n",
      "Сортировка Шелла выполнилась за \n",
      "0.00019130000146105886\n",
      "Сортировка Быстрая выполнилась за \n",
      "0.0002614000113680959\n",
      "Сортировка Пирамидальная выполнилась за \n",
      "0.00021749999723397195\n",
      "Сортировка Встроенная выполнилась за \n"
     ]
    },
    {
     "ename": "ValueError",
     "evalue": "The truth value of an array with more than one element is ambiguous. Use a.any() or a.all()",
     "output_type": "error",
     "traceback": [
      "\u001b[1;31m---------------------------------------------------------------------------\u001b[0m",
      "\u001b[1;31mValueError\u001b[0m                                Traceback (most recent call last)",
      "\u001b[1;32mc:\\Users\\3007l\\OneDrive\\Рабочий стол\\СИАОД\\LR1.ipynb Cell 20'\u001b[0m in \u001b[0;36m<module>\u001b[1;34m\u001b[0m\n\u001b[0;32m     <a href='vscode-notebook-cell:/c%3A/Users/3007l/OneDrive/%D0%A0%D0%B0%D0%B1%D0%BE%D1%87%D0%B8%D0%B9%20%D1%81%D1%82%D0%BE%D0%BB/%D0%A1%D0%98%D0%90%D0%9E%D0%94/LR1.ipynb#ch0000021?line=43'>44</a>\u001b[0m arr\u001b[39m=\u001b[39mnp\u001b[39m.\u001b[39mrandom\u001b[39m.\u001b[39mrandint(min_limit, max_limit,size\u001b[39m=\u001b[39m(m, n))\n\u001b[0;32m     <a href='vscode-notebook-cell:/c%3A/Users/3007l/OneDrive/%D0%A0%D0%B0%D0%B1%D0%BE%D1%87%D0%B8%D0%B9%20%D1%81%D1%82%D0%BE%D0%BB/%D0%A1%D0%98%D0%90%D0%9E%D0%94/LR1.ipynb#ch0000021?line=44'>45</a>\u001b[0m start_time \u001b[39m=\u001b[39m timeit\u001b[39m.\u001b[39mdefault_timer()\n\u001b[1;32m---> <a href='vscode-notebook-cell:/c%3A/Users/3007l/OneDrive/%D0%A0%D0%B0%D0%B1%D0%BE%D1%87%D0%B8%D0%B9%20%D1%81%D1%82%D0%BE%D0%BB/%D0%A1%D0%98%D0%90%D0%9E%D0%94/LR1.ipynb#ch0000021?line=45'>46</a>\u001b[0m \u001b[39msorted\u001b[39;49m(arr)\n\u001b[0;32m     <a href='vscode-notebook-cell:/c%3A/Users/3007l/OneDrive/%D0%A0%D0%B0%D0%B1%D0%BE%D1%87%D0%B8%D0%B9%20%D1%81%D1%82%D0%BE%D0%BB/%D0%A1%D0%98%D0%90%D0%9E%D0%94/LR1.ipynb#ch0000021?line=46'>47</a>\u001b[0m time_2 \u001b[39m=\u001b[39m timeit\u001b[39m.\u001b[39mdefault_timer() \u001b[39m-\u001b[39m start_time\n\u001b[0;32m     <a href='vscode-notebook-cell:/c%3A/Users/3007l/OneDrive/%D0%A0%D0%B0%D0%B1%D0%BE%D1%87%D0%B8%D0%B9%20%D1%81%D1%82%D0%BE%D0%BB/%D0%A1%D0%98%D0%90%D0%9E%D0%94/LR1.ipynb#ch0000021?line=47'>48</a>\u001b[0m \u001b[39mprint\u001b[39m(time_2)\n",
      "\u001b[1;31mValueError\u001b[0m: The truth value of an array with more than one element is ambiguous. Use a.any() or a.all()"
     ]
    }
   ],
   "source": [
    "print(\"Сортировка выбором выполнилась за \")\n",
    "arr=np.random.randint(min_limit, max_limit,size=(m, n))\n",
    "start_time = timeit.default_timer()\n",
    "selection_sort(arr)\n",
    "time_2 = timeit.default_timer() - start_time\n",
    "print(time_2)\n",
    "\n",
    "print(\"Сортировка вставкой выполнилась за \")\n",
    "arr=np.random.randint(min_limit, max_limit,size=(m, n))\n",
    "start_time = timeit.default_timer()\n",
    "insertion_sort(arr)\n",
    "time_2 = timeit.default_timer() - start_time\n",
    "print(time_2)\n",
    "\n",
    "print(\"Сортировка обменом выполнилась за \")\n",
    "arr=np.random.randint(min_limit, max_limit,size=(m, n))\n",
    "start_time = timeit.default_timer()\n",
    "bubble_sort(arr)\n",
    "time_2 = timeit.default_timer() - start_time\n",
    "print(time_2)\n",
    "\n",
    "print(\"Сортировка Шелла выполнилась за \")\n",
    "arr=np.random.randint(min_limit, max_limit,size=(m, n))\n",
    "start_time = timeit.default_timer()\n",
    "shellSort(arr)\n",
    "time_2 = timeit.default_timer() - start_time\n",
    "print(time_2)\n",
    "\n",
    "print(\"Сортировка Быстрая выполнилась за \")\n",
    "arr=np.random.randint(min_limit, max_limit,size=(m, n))\n",
    "start_time = timeit.default_timer()\n",
    "QuickSort(arr)\n",
    "time_2 = timeit.default_timer() - start_time\n",
    "print(time_2)\n",
    "\n",
    "print(\"Сортировка Пирамидальная выполнилась за \")\n",
    "arr=np.random.randint(min_limit, max_limit,size=(m, n))\n",
    "start_time = timeit.default_timer()\n",
    "HeapSort(arr)\n",
    "time_2 = timeit.default_timer() - start_time\n",
    "print(time_2)\n",
    "\n",
    "print(\"Сортировка Встроенная выполнилась за \")\n",
    "arr=np.random.randint(min_limit, max_limit,size=(m, n))\n",
    "start_time = timeit.default_timer()\n",
    "sorted(arr)\n",
    "time_2 = timeit.default_timer() - start_time\n",
    "print(time_2)"
   ]
  }
 ],
 "metadata": {
  "interpreter": {
   "hash": "2b4e5e32f13d8153412901d3702d3a1d9526e1396aa7ce6ffcd9866168680c5b"
  },
  "kernelspec": {
   "display_name": "Python 3.10.4 64-bit (windows store)",
   "language": "python",
   "name": "python3"
  },
  "language_info": {
   "codemirror_mode": {
    "name": "ipython",
    "version": 3
   },
   "file_extension": ".py",
   "mimetype": "text/x-python",
   "name": "python",
   "nbconvert_exporter": "python",
   "pygments_lexer": "ipython3",
   "version": "3.10.4"
  },
  "orig_nbformat": 4
 },
 "nbformat": 4,
 "nbformat_minor": 2
}
