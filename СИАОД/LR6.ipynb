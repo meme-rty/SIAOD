{
  "cells": [
    {
      "cell_type": "markdown",
      "metadata": {
        "id": "0z3KlfKDn4_K"
      },
      "source": [
        "# Лабораторная работа 6. \n",
        "# Сетевые алгоритмы. Динамические алгоритмы поиска путей.\n"
      ]
    },
    {
      "cell_type": "markdown",
      "metadata": {
        "id": "96Gi_LEvmSVH"
      },
      "source": [
        "## Выполнил студент группы ФИО ГРУППА\n",
        "***"
      ]
    },
    {
      "cell_type": "markdown",
      "metadata": {
        "id": "GjdIp8aToKIe"
      },
      "source": [
        "### Задание\n",
        "\n",
        "1.  Реализовать алгоритм поиска кратчайшего расстояния между двумя вершинами ориентированного взвешенного графа в соответствии с вариантом. \n",
        "\n",
        "2.  Предусмотреть задание графа в виде матрицы смежности/инцидентности, читаемой из файла, либо графически с помощью пользовательского интерфейса. \n",
        "\n",
        "3.  Разработать графический интерфейс пользователя с визуализацией графа и отображением кратчайшего расстояния между задаваемыми пользователем вершинами.\n",
        "\n",
        "4. По результатам работы проанализировать временную сложность работы заданного алгоритма в зависимости от числа узлов и ребер графа.\n",
        "Данные представить в виде таблицы.\n",
        "\n"
      ]
    },
    {
      "cell_type": "markdown",
      "metadata": {
        "id": "LhhUXrAmotIA"
      },
      "source": [
        "### Варианты заданий:\n",
        "\n",
        "Вариант | Задание\n",
        ":-------- |:-----\n",
        "1, 7, 13, 19, 25 | Алгоритм Флойда-Уоршелла\n",
        "2, 8, 14, 20, 26 | Алгоритм Дейкстры\n",
        "3, 9,15,21,27 | Алгоритм Беллмана-Форда\n",
        "4, 10, 16, 22, 28 | Алгоритм Джонсона\n",
        "5, 11, 17, 23, 29| Алгоритм Левита\n",
        "6, 12, 18, 24, 30 | Алгоритм Йена\n",
        "\n"
      ]
    },
    {
      "cell_type": "markdown",
      "metadata": {
        "id": "Wggfn8l7nG72"
      },
      "source": [
        "### Выполнение:"
      ]
    },
    {
      "cell_type": "code",
      "execution_count": 95,
      "metadata": {},
      "outputs": [],
      "source": [
        "import math\n",
        "import networkx as nx\n",
        "import ipywidgets as widgets\n",
        "import pandas as pd\n",
        "from ipywidgets import interact, interact_manual\n",
        "from pyvis.network import Network"
      ]
    },
    {
      "cell_type": "code",
      "execution_count": 96,
      "metadata": {},
      "outputs": [
        {
          "name": "stdout",
          "output_type": "stream",
          "text": [
            "посторение пути из точки A в точку J:\n",
            "A->F->J\n"
          ]
        },
        {
          "data": {
            "image/png": "[encoded data removed]",
            "text/plain": [
              "<Figure size 432x288 with 1 Axes>"
            ]
          },
          "metadata": {},
          "output_type": "display_data"
        },
        {
          "name": "stdout",
          "output_type": "stream",
          "text": [
            "0.0006991999980527908\n"
          ]
        }
      ],
      "source": [
        "# Алгоритм Джонсона\n",
        "import math\n",
        "import copy\n",
        "import networkx as nx\n",
        "import matplotlib.pyplot as plt\n",
        "import timeit\n",
        "def matric(rez,alf,path):#создание списка кортеджей длин наименьшего пути\n",
        "    path_m = []\n",
        "    for i in range(len(rez)-1):\n",
        "        for ii in path:\n",
        "            if ii[0] == alf[rez[i]].upper() and ii[1] == alf[rez[i+1]].upper():\n",
        "                path_m.append((alf[rez[i]].upper(),alf[rez[i+1]].upper(),ii[2]))\n",
        "    return path_m\n",
        "def graf(path,rezMatrix):# отрисовка графа\n",
        "    G = nx.DiGraph() \n",
        "    M = nx.DiGraph()\n",
        "    E = path\n",
        "    Er=rezMatrix\n",
        "    G.add_weighted_edges_from(E)\n",
        "    M.add_weighted_edges_from(Er)\n",
        "    pos=nx.spring_layout(G)\n",
        "    \n",
        "    nx.draw(G, pos, with_labels=True, font_weight='bold',font_color='white',node_color='black')\n",
        "    nx.draw(M, pos, with_labels=True, font_weight='bold',font_color='white',node_color='red',edge_color='red')\n",
        "    \n",
        "    edge_weight = nx.get_edge_attributes(G,'weight')\n",
        "    nx.draw_networkx_edge_labels(G, pos, edge_labels = edge_weight)\n",
        "    plt.show()    \n",
        "def mat(z,alf):#создание списка кортеджей которая всебе хранит растоянния от вершин\n",
        "    v = []\n",
        "    for k in z:\n",
        "        v.append(k.split())\n",
        "    n = len(v)\n",
        "    path = []\n",
        "    for i in range(n):\n",
        "        for ii in range(n):\n",
        "            if v[i][ii] ==\"0\" or v[i][ii] == '-':\n",
        "                pass\n",
        "            else:\n",
        "                k = i\n",
        "                kk = ii\n",
        "                while k>=len(alf):\n",
        "                    k-=len(alf)\n",
        "                while kk>=len(alf):\n",
        "                    kk-=len(alf)                    \n",
        "                path.append((alf[k].upper(),alf[kk].upper(),v[i][ii]))\n",
        "    return path\n",
        "\n",
        "def read_file(f,alf):\n",
        "    V = []\n",
        "    z = []\n",
        "    for i in f:\n",
        "        z.append(i)\n",
        "    path = mat(z,alf)\n",
        "    for i in z:\n",
        "        k = i.split()\n",
        "        o = []\n",
        "        for ii in k:\n",
        "            if ii == \"-\":\n",
        "                o.append(math.inf)\n",
        "            else:\n",
        "                o.append(int(ii))\n",
        "        V.append(o)\n",
        "        o = []\n",
        "    return V,path\n",
        "\n",
        "def d_get_path(path, start, end):\n",
        "    result = [end]\n",
        "    while end != start:\n",
        "        end = path[end]\n",
        "        result.append(end)\n",
        "    return result[::-1]\n",
        "\n",
        "def dijkstra_path(matrix, start, end):\n",
        "    dist = [matrix[start][i] for i in range(len(matrix))]\n",
        "    prev = [start for i in range(len(matrix))]\n",
        "    checked_nodes = set()\n",
        "    checked_nodes.add(start)\n",
        "    for i in range(len(matrix)):\n",
        "        node = 0\n",
        "        for i in range(len(matrix)):\n",
        "            if dist[i] < math.inf and i not in checked_nodes:\n",
        "                node = i\n",
        "        if node:\n",
        "            checked_nodes.add(node)\n",
        "            for i in range(len(matrix)):\n",
        "                if dist[i] > matrix[node][i] + dist[node]:\n",
        "                    dist[i] = matrix[node][i] + dist[node]\n",
        "                    prev[i] = node\n",
        "    if dist[end] == math.inf:\n",
        "        return [], dist\n",
        "    else:\n",
        "        return d_get_path(prev, start, end), dist\n",
        "\n",
        "def bellman_ford_path(matrix, start, end,n):\n",
        "    edges = []\n",
        "    for i in range(n):\n",
        "        for j in range(n):\n",
        "            if i != j and matrix[i][j] < math.inf:\n",
        "                edges.append((i,j,matrix[i][j]))\n",
        "\n",
        "    from_pos = 0\n",
        "    to_pos = 1\n",
        "    edge_length = 2\n",
        "    d = [math.inf] * n\n",
        "    d[start] = 0\n",
        "    p = [-1] * n\n",
        "    while True:\n",
        "        flag = False\n",
        "        for j in range(len(edges)):\n",
        "            if d[edges[j][from_pos]] < math.inf:\n",
        "                if d[edges[j][to_pos]] > d[edges[j][from_pos]] + edges[j][edge_length]: \n",
        "                    d[edges[j][to_pos]] = d[edges[j][from_pos]] + edges[j][edge_length]\n",
        "                    p[edges[j][to_pos]] =  edges[j][from_pos]\n",
        "                    flag = True\n",
        "        if not flag:  \n",
        "            break\n",
        "    if d[end] == math.inf:\n",
        "        return [], d\n",
        "    else:\n",
        "        path = []\n",
        "        cur = end\n",
        "        while cur != -1:\n",
        "            path.append(cur)\n",
        "            cur=p[cur]\n",
        "        return path[::-1], d\n",
        "\n",
        "def johnsons_path(matrix, start, end,n):\n",
        "    bf_path, bf_dist = bellman_ford_path(copy.deepcopy(matrix), start, end,n) \n",
        "    if bf_dist == []: \n",
        "        return []\n",
        "    for i in range(n):\n",
        "        for j in range(n):\n",
        "            if matrix[i][j] != math.inf and bf_dist[i] != math.inf and bf_dist[j] != math.inf:\n",
        "                matrix[i][j] += bf_dist[i] - bf_dist[j]\n",
        "    paths = []\n",
        "    dist = []\n",
        "    for i in range(n):\n",
        "        p, d = dijkstra_path(matrix, i, end)\n",
        "        paths.append(p)\n",
        "        dist.append(d)\n",
        "    for i in range(n):\n",
        "        for j in range(n):\n",
        "            if dist[i][j] != math.inf and bf_dist[i] != math.inf and bf_dist[j] != math.inf:\n",
        "                dist[i][j] +=  bf_dist[j] - bf_dist[i]\n",
        "    return paths[start]\n",
        "\n",
        "\n",
        "alf = ['a', 'b', 'c', 'd', 'e', 'f', 'g', 'h', 'i', 'j', 'k', 'l', 'm', 'n', 'o', 'p', 'q', 'r', 's', 't', 'u', 'v', 'w', 'x', 'y', 'z']\n",
        "f = open(\"mas.txt\", \"r\",encoding='utf-8')\n",
        "V, path = read_file(f,alf)\n",
        "f.close()\n",
        "n = len(V)#число вершин в графе\n",
        "s = \"A\"\n",
        "e = \"J\"\n",
        "put=\"\"\n",
        "start = alf.index(s.lower())# начальная вершина\n",
        "end = alf.index(e.lower())#конечная вершина\n",
        "start_time = timeit.default_timer()\n",
        "rez= johnsons_path(V, start, end,n)\n",
        "tmJ = timeit.default_timer() - start_time \n",
        "\n",
        "print(f'посторение пути из точки {alf[start].upper()} в точку {alf[end].upper()}:')\n",
        "for i in rez:\n",
        "    put += alf[i].upper()+\"->\"\n",
        "print(put[:-2])\n",
        "rezMatrix = matric(rez,alf,path)\n",
        "graf(path,rezMatrix)\n",
        "\n",
        "print(tmJ)"
      ]
    },
    {
      "cell_type": "markdown",
      "metadata": {
        "id": "diOb-K7LnO5a"
      },
      "source": [
        "### Вывод"
      ]
    }
  ],
  "metadata": {
    "colab": {
      "name": "Lab6.ipynb",
      "provenance": []
    },
    "kernelspec": {
      "display_name": "Python 3",
      "name": "python3"
    },
    "language_info": {
      "codemirror_mode": {
        "name": "ipython",
        "version": 3
      },
      "file_extension": ".py",
      "mimetype": "text/x-python",
      "name": "python",
      "nbconvert_exporter": "python",
      "pygments_lexer": "ipython3",
      "version": "3.10.4"
    }
  },
  "nbformat": 4,
  "nbformat_minor": 0
}
