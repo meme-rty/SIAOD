{
 "cells": [
  {
   "cell_type": "markdown",
   "id": "fifteen-sailing",
   "metadata": {},
   "source": [
    "# Лабораторная работа №4\n",
    "## Выполнил студент группы ФИО ГРУППА"
   ]
  },
  {
   "cell_type": "markdown",
   "id": "arctic-stocks",
   "metadata": {},
   "source": [
    "Реализовать следующие структуры данных:\n",
    "  \n",
    "● <b> Стек (stack): </b>  \n",
    "Операции для стека: \n",
    "<i> инициализация, проверка на пустоту, добавление нового элемента в начало, извлечение элемента из начала;  </i>  \n",
    "  \n",
    "● <b> Дек (двусторонняя очередь, deque):  </b>  \n",
    "Операции для дека: \n",
    "<i> инициализация, проверка на пустоту, добавление нового элемента в начало, добавление нового элемента в конец, извлечение элемента из начала, извлечение элемента из конца. </i>  \n",
    "  \n",
    "<i> Разработать программу обработки данных, содержащихся в заранее подготовленном txt-файле, в соответствии с заданиями, применив указанную в задании структуру данных. Результат работы программы вывести на экран и сохранить в отдельном txt-файле. </i>"
   ]
  },
  {
   "cell_type": "markdown",
   "id": "5d7edb08",
   "metadata": {
    "scrolled": true
   },
   "source": [
    "### Задание №1\n",
    "Отсортировать строки файла, содержащие названия книг, в алфавитном порядке с использованием двух деков."
   ]
  },
  {
   "cell_type": "code",
   "execution_count": 26,
   "id": "17702ade",
   "metadata": {},
   "outputs": [
    {
     "name": "stdout",
     "output_type": "stream",
     "text": [
      "deque(['Алиса в стране чудес', 'Василиса прекрасная', 'Приключения Тома Сойера', 'Робинзон крузо', 'Три мушкетер'])\n"
     ]
    }
   ],
   "source": [
    "from collections import deque\n",
    "\n",
    "def sortTitles():\n",
    "    #открываем файл\n",
    "    f = open('booknames.txt', 'r', encoding=\"utf-8\")\n",
    "    first = deque([])\n",
    "    second = deque([])\n",
    "    for line in f:\n",
    "         #если первый дек уже не пустой и первая буква названия меньше чем первая буква первого элемента первого дека\n",
    "        if len(first)>0 and line[0] < first[0][0]:\n",
    "            first.appendleft(line[:-1])\n",
    "         #если первый дек пустой либо первая буква названия больше перво буквы последнего элемента дека, то дополняем справа\n",
    "        elif len(first) == 0 or line[0] > first[-1][0]:\n",
    "            first.append(line[:-1])\n",
    "        else: second.append(line[:-1])  #если название должно стоять между крайними элементами первого дека, добавляем во второй\n",
    "    while len(second) > 0:\n",
    "        insert(first, second)\n",
    "    print(first)\n",
    "\n",
    "def insert(first, second):\n",
    "        if second[0][0] < first[0][0]: \n",
    "            first.appendleft(second.pop())  #если первый элемент второго дека меньше первого элемента первого, то дополняем слева\n",
    "        elif second[0][0] < first[-1][0]:\n",
    "            second.append(first.pop())  #если последний элемент первого дека меньше первого элемента второго, то перемещаем его в конец второго дека\n",
    "            insert(first, second)\n",
    "        else: first.append(second.popleft())\n",
    "\n",
    "sortTitles()     "
   ]
  },
  {
   "cell_type": "markdown",
   "id": "49fbd2a0",
   "metadata": {},
   "source": [
    "### Задание №2\n",
    "Дек содержит последовательность символов для шифровки сообщений. Дан текстовый файл, содержащий зашифрованное сообщение. Пользуясь деком, расшифровать текст. \n",
    "Известно, что при шифровке каждый символ сообщения заменялся следующим за ним в деке по часовой стрелке через один."
   ]
  },
  {
   "cell_type": "code",
   "execution_count": 41,
   "id": "81cab7a8",
   "metadata": {},
   "outputs": [
    {
     "name": "stdout",
     "output_type": "stream",
     "text": [
      "pdltlyitiereryddgh yyh el \n",
      "\n"
     ]
    }
   ],
   "source": [
    "from collections import deque\n",
    "#дек символов для шифровки сообщений\n",
    "key = deque([\"a\", \"b\", \"c\", \"d\", \"e\", \"f\", \"g\", \"h\", \"j\", \"k\", \"l\", \"m\", \"n\", \"o\", \"p\", \"q\", \"r\", \"s\", \"t\", \"u\", \"v\", \"w\", \"x\", \"y\", \"z\", \" \"])\n",
    "\n",
    "def decrypt():\n",
    "    f = open('zadanie2.txt', 'r', encoding=\"utf-8\")\n",
    "    res = \"\"\n",
    "    for line in f:\n",
    "        for i in line:\n",
    "            if i in key: #если символ содержится в деке для шифрования сообщений\n",
    "                idx = key.index(i)\n",
    "                if idx == 0: #если это первый элмент, берем предпоследний\n",
    "                    idx = len(key) - 2\n",
    "                elif idx == 1: #если это второй элемент дека, берем последний\n",
    "                    idx = len(key) - 1\n",
    "                else: #в остальных случаях берем элемент через один назад\n",
    "                    idx -= 2\n",
    "                res += key[idx]\n",
    "            else:\n",
    "                res+=i\n",
    "    return res\n",
    "print(decrypt())"
   ]
  },
  {
   "cell_type": "markdown",
   "id": "c0894f47",
   "metadata": {},
   "source": [
    "### Задание №3\n",
    "Даны три стержня и n дисков различного размера. Диски можно надевать на стержни, образуя из них башни. Перенести n дисков со стержня А на стержень С, сохранив их первоначальный порядок. При переносе дисков необходимо соблюдать следующие правила:\n",
    "- на каждом шаге со стержня на стержень переносить только один диск;\n",
    "- диск нельзя помещать на диск меньшего размера;\n",
    "- для промежуточного хранения можно использовать стержень В.\n",
    "Реализовать алгоритм, используя три стека вместо стержней А, В, С. Информация о дисках хранится в исходном файле."
   ]
  },
  {
   "cell_type": "code",
   "execution_count": 40,
   "id": "9e91a9d4",
   "metadata": {},
   "outputs": [
    {
     "name": "stdout",
     "output_type": "stream",
     "text": [
      "Перемещен диск 1 со стержня A на стержень C\n",
      "Перемещен диск 2 со стержня A на стержень B\n",
      "Перемещен диск 1 со стержня C на стержень B\n",
      "Перемещен диск 3 со стержня A на стержень C\n",
      "Перемещен диск 1 со стержня B на стержень A\n",
      "Перемещен диск 2 со стержня B на стержень C\n",
      "Перемещен диск 1 со стержня A на стержень C\n",
      "Pop: *\n",
      "Pop: **\n",
      "Pop: ***\n"
     ]
    }
   ],
   "source": [
    "class Node:\n",
    "    def __init__(self, value):\n",
    "        self.value = value\n",
    "        self.next = None\n",
    " \n",
    " \n",
    "class Stack:\n",
    " \n",
    "    # конструктор для стэка\n",
    "    def __init__(self, name):\n",
    "        self.head = Node(\"head\")\n",
    "        self.size = 0\n",
    "        self.name = name\n",
    "\n",
    "    def __str__(self):\n",
    "        cur = self.head.next\n",
    "        out = \"\"\n",
    "        while cur:\n",
    "            out += str(cur.value) + \" \"\n",
    "            cur = cur.next\n",
    "        return out[:-1]\n",
    "\n",
    "    # получить текущий размер стека\n",
    "    def getSize(self):\n",
    "        return self.size\n",
    " \n",
    "    # проверить стек на пустоту\n",
    "    def isEmpty(self):\n",
    "        return self.size == 0\n",
    " \n",
    "    # достать последний элемент\n",
    "    def peek(self):\n",
    "        if self.isEmpty():\n",
    "            raise Exception(\"Peeking from an empty stack\")\n",
    "        return self.head.next.value\n",
    " \n",
    "    # положить элемент наверх\n",
    "    def push(self, value):\n",
    "        node = Node(value)\n",
    "        node.next = self.head.next\n",
    "        self.head.next = node\n",
    "        self.size += 1\n",
    " \n",
    "    # вернуть значение последнего элемента и удалить этот элемент\n",
    "    def pop(self):\n",
    "        if self.isEmpty():\n",
    "            raise Exception(\"Popping from an empty stack\")\n",
    "        remove = self.head.next\n",
    "        self.head.next = self.head.next.next\n",
    "        self.size -= 1\n",
    "        return remove.value\n",
    " \n",
    "def TowerOfHanoi(n , source, destination, auxiliary):\n",
    "    if n==1: #если операция над верхним диском, он перемещается на стержень С\n",
    "        print (\"Перемещен диск 1 со стержня\", source.name, \"на стержень\", destination.name)\n",
    "        destination.push(source.pop())\n",
    "        return\n",
    "    TowerOfHanoi(n - 1, source, auxiliary, destination) #дальше операции над следующими дисками, стержень B как \n",
    "                                                            #назначение, С как вспомогательный\n",
    "    print (\"Перемещен диск\", n, \"со стержня\", source.name, \"на стержень\", destination.name)\n",
    "    destination.push(source.pop())\n",
    "    TowerOfHanoi(n - 1, auxiliary, destination, source) #когда диски на стержне А кончились, запускаем тот же процес\n",
    "                                                        #с с стержнем B на стержень С\n",
    "         \n",
    "n = int(input(\"Сколько дисков должно быть на стержне?\"))\n",
    "base = \"*\"\n",
    "rodA, rodB, rodC = Stack(\"A\"),Stack(\"B\"),Stack(\"C\")\n",
    "#заполнение стека дисками, где кол-во * обозначает размер диска\n",
    "for i in range (n, 0, -1):\n",
    "    symbol = \"\"\n",
    "    j = i\n",
    "    while j > 0:\n",
    "        symbol+=base\n",
    "        j -= 1\n",
    "    rodA.push(symbol)\n",
    "\n",
    "TowerOfHanoi(n, rodA, rodC, rodB)\n",
    "#проверка - достаем элементы из стержня C\n",
    "for _ in range(1, n+1):\n",
    "    remove = rodC.pop()\n",
    "    print(f\"Pop: {remove}\")"
   ]
  },
  {
   "cell_type": "markdown",
   "id": "e5b0be17",
   "metadata": {},
   "source": [
    "### Задание №4\n",
    "Дан текстовый файл с программой на алгоритмическом языке. За один просмотр файла проверить баланс круглых скобок в тексте, используя стек."
   ]
  },
  {
   "cell_type": "code",
   "execution_count": 29,
   "id": "5b1df60a",
   "metadata": {},
   "outputs": [
    {
     "data": {
      "text/plain": [
       "'Скобки в порядке'"
      ]
     },
     "execution_count": 29,
     "metadata": {},
     "output_type": "execute_result"
    }
   ],
   "source": [
    "class Node:\n",
    "    def __init__(self, value):\n",
    "        self.value = value\n",
    "        self.next = None\n",
    " \n",
    " \n",
    "class Stack:\n",
    " \n",
    "    # конструктор\n",
    "    def __init__(self, name):\n",
    "        self.head = Node(\"head\")\n",
    "        self.size = 0\n",
    "        self.name = name\n",
    "\n",
    "    def __str__(self):\n",
    "        cur = self.head.next\n",
    "        out = \"\"\n",
    "        while cur:\n",
    "            out += str(cur.value) + \" \"\n",
    "            cur = cur.next\n",
    "        return out[:-1]\n",
    "\n",
    "    # получить размер стека\n",
    "    def getSize(self):\n",
    "        return self.size\n",
    " \n",
    "    # проверка на пустоту\n",
    "    def isEmpty(self):\n",
    "        return self.size == 0\n",
    " \n",
    "    # получить последнее значение\n",
    "    def peek(self):\n",
    "        if self.isEmpty():\n",
    "            raise Exception(\"Peeking from an empty parentheses\")\n",
    "        return self.head.next.value\n",
    " \n",
    "    # поместить значение в стек\n",
    "    def push(self, value):\n",
    "        node = Node(value)\n",
    "        node.next = self.head.next\n",
    "        self.head.next = node\n",
    "        self.size += 1\n",
    " \n",
    "    # Вернуть последнее знаечние в стеке и удалить его\n",
    "    def pop(self):\n",
    "        if self.isEmpty():\n",
    "            raise Exception(\"Popping from an empty parentheses\")\n",
    "        remove = self.head.next\n",
    "        self.head.next = self.head.next.next\n",
    "        self.size -= 1\n",
    "        return remove.value\n",
    "\n",
    "#массивы для скобок\n",
    "open_list = [\"[\",\"{\",\"(\"]\n",
    "close_list = [\"]\",\"}\",\")\"]\n",
    "  \n",
    "# Функция для проверки баланса скобок\n",
    "def check():\n",
    "    parentheses = Stack(\"parentheses\")\n",
    "    f = open('zadanie4.txt', 'r', encoding=\"utf-8\")\n",
    "    for line in f:\n",
    "        for i in line:\n",
    "            if i in open_list: #если символ содержится в массиве открытых скобок, то добавляем в стек\n",
    "                parentheses.push(i)\n",
    "            elif i in close_list: #если символ содержится в массиве закрытых скобок, то находим, какого типа эта скобка\n",
    "                pos = close_list.index(i)\n",
    "                if ((parentheses.size > 0) and (open_list[pos] == parentheses.peek())): #и если в стэке уже есть открывающая скобка и она соответствует по индексу закрывающей\n",
    "                    parentheses.pop() #то удаляем\n",
    "                else:\n",
    "                    return \"Баланс скобок нарушен\"\n",
    "    if parentheses.isEmpty():\n",
    "        return \"Скобки в порядке\"\n",
    "    else:\n",
    "        return \"Баланс скобок нарушен\"\n",
    "\n",
    "check()\n",
    "    "
   ]
  },
  {
   "cell_type": "markdown",
   "id": "c44cdd6b",
   "metadata": {},
   "source": [
    "### Задание №5\n",
    "Дан текстовый файл с программой на алгоритмическом языке. За один просмотр файла проверить баланс квадратных скобок в тексте, используя дек."
   ]
  },
  {
   "cell_type": "code",
   "execution_count": 30,
   "id": "36b8f400",
   "metadata": {},
   "outputs": [
    {
     "data": {
      "text/plain": [
       "'Скобки в порядке'"
      ]
     },
     "execution_count": 30,
     "metadata": {},
     "output_type": "execute_result"
    }
   ],
   "source": [
    "from collections import deque\n",
    "\n",
    "def checkParentheses():\n",
    "    queue = deque([])\n",
    "    f = open('zadanie5.txt', 'r', encoding=\"utf-8\")\n",
    "    for line in f:\n",
    "        for i in line:\n",
    "            if str(i) == \"[\": #если найдена открывающая скобка, дополняем дек\n",
    "                queue.append(str(i))\n",
    "            elif str(i) == \"]\" and len(queue)>0: #если найдена закрывающая скобка и в деке есть открывающая\n",
    "                queue.popleft()\n",
    "            elif str(i) == \"]\" and len(queue) == 0: # если встречена закрывающая при пустом деке, то сразу возвращаем нарушенный баланс\n",
    "                return \"Баланс скобок нарушен\"\n",
    "    if len(queue) > 0:\n",
    "        return \"Баланс скобок нарушен\"\n",
    "    else: return \"Скобки в порядке\"\n",
    "checkParentheses()"
   ]
  },
  {
   "cell_type": "markdown",
   "id": "59d13dc7",
   "metadata": {},
   "source": [
    "### Задание №6\n",
    "Дан файл из символов. Используя стек, за один просмотр файла напечатать сначала все цифры, затем все буквы, и, наконец, все остальные символы, сохраняя исходный порядок в каждой группе символов."
   ]
  },
  {
   "cell_type": "code",
   "execution_count": 31,
   "id": "297e36c2",
   "metadata": {},
   "outputs": [
    {
     "name": "stdout",
     "output_type": "stream",
     "text": [
      "ublic class Primes \n",
      "    public static void mainString args\n",
      "        for int i ii\n",
      "            if isPrimei\n",
      "            Systemoutprintlni Prime number\n",
      "        \n",
      "    \n",
      "    public static boolean isPrimeint n\n",
      "        boolean atrue\n",
      "        for int i inii\n",
      "            if ni a  false\n",
      "        \n",
      "        return a\n",
      "    \n",
      "    \n",
      "\n",
      "\n",
      "10020\n",
      "([]){(=;<;++){(())..(+\"-\");}}(){=;(=;<=/;++){((%)==)=;};}}\n"
     ]
    }
   ],
   "source": [
    "class Node:\n",
    "    def __init__(self, value):\n",
    "        self.value = value\n",
    "        self.next = None\n",
    " \n",
    " \n",
    "class Stack:\n",
    " \n",
    "    # конструктор\n",
    "    def __init__(self, name):\n",
    "        self.head = Node(\"head\")\n",
    "        self.size = 0\n",
    "        self.name = name\n",
    "\n",
    "    def __str__(self): #с помощью второго стека формируем строку в правильном порядке\n",
    "        cur = Stack(\"reversed\")\n",
    "        out = \"\"\n",
    "        ur = self.head\n",
    "        while cur.size < self.size:\n",
    "            cur.push(ur.value)\n",
    "            ur = ur.next\n",
    "        while cur.size >1:\n",
    "            out+=str(cur.pop())\n",
    "        return out\n",
    "\n",
    "    # получить размер стека\n",
    "    def getSize(self):\n",
    "        return self.size\n",
    " \n",
    "    # проверка на пустоту\n",
    "    def isEmpty(self):\n",
    "        return self.size == 0\n",
    " \n",
    "    # получить последнее значение\n",
    "    def peek(self):\n",
    "        if self.isEmpty():\n",
    "            raise Exception(\"Peeking from an empty stack\")\n",
    "        return self.head.next.value\n",
    " \n",
    "    # поместить значение в стек\n",
    "    def push(self, value):\n",
    "        node = Node(value)\n",
    "        node.next = self.head.next\n",
    "        self.head.next = node\n",
    "        self.size += 1\n",
    " \n",
    "    # Вернуть последнее знаечние в стеке и удалить его\n",
    "    def pop(self):\n",
    "        if self.isEmpty():\n",
    "            raise Exception(\"Popping from an empty stack\")\n",
    "        remove = self.head.next\n",
    "        self.head.next = self.head.next.next\n",
    "        self.size -= 1\n",
    "        return remove.value\n",
    "\n",
    "#инициализируем три стека для соответствующих символов\n",
    "letters, digits, other, = Stack(\"Letters\"), Stack(\"Digits\"), Stack(\"Others\")\n",
    "\n",
    "def readfile(letters, digits, others):\n",
    "    f = open('zadanie6.txt', 'r', encoding=\"utf-8\")\n",
    "    for line in f:\n",
    "        for i in line:\n",
    "            if i.isnumeric(): #если символ цифровой, то добавляем его в соответствующий стек\n",
    "                digits.push(i)\n",
    "                continue\n",
    "            if i.isspace() or i.isalpha(): #если символ пробел или буква, то добавляем его в соответствующий стек\n",
    "                letters.push(i)\n",
    "                continue\n",
    "            others.push(i) #если первые два условия не сработали, то добавляем в третий стек\n",
    "    print(letters)\n",
    "    print(digits)\n",
    "    print(others)\n",
    "\n",
    "readfile(letters, digits, other)"
   ]
  },
  {
   "cell_type": "markdown",
   "id": "973f68bd",
   "metadata": {},
   "source": [
    "### Задание №7\n",
    "Дан файл из целых чисел. Используя дек, за один просмотр файла напечатать сначала все отрицательные числа, затем все положительные числа, сохраняя исходный порядок в каждой группе."
   ]
  },
  {
   "cell_type": "code",
   "execution_count": 42,
   "id": "c56fad66",
   "metadata": {},
   "outputs": [
    {
     "ename": "ValueError",
     "evalue": "invalid literal for int() with base 10: '1 2 3 4 6 5'",
     "output_type": "error",
     "traceback": [
      "\u001b[1;31m---------------------------------------------------------------------------\u001b[0m",
      "\u001b[1;31mValueError\u001b[0m                                Traceback (most recent call last)",
      "\u001b[1;32mc:\\Users\\3007l\\OneDrive\\Рабочий стол\\СИАОД\\LR4.ipynb Cell 16'\u001b[0m in \u001b[0;36m<module>\u001b[1;34m\u001b[0m\n\u001b[0;32m      <a href='vscode-notebook-cell:/c%3A/Users/3007l/OneDrive/%D0%A0%D0%B0%D0%B1%D0%BE%D1%87%D0%B8%D0%B9%20%D1%81%D1%82%D0%BE%D0%BB/%D0%A1%D0%98%D0%90%D0%9E%D0%94/LR4.ipynb#ch0000015?line=8'>9</a>\u001b[0m     queueNeg\u001b[39m.\u001b[39mextend(queuePos) \u001b[39m#склеиваем два дека\u001b[39;00m\n\u001b[0;32m     <a href='vscode-notebook-cell:/c%3A/Users/3007l/OneDrive/%D0%A0%D0%B0%D0%B1%D0%BE%D1%87%D0%B8%D0%B9%20%D1%81%D1%82%D0%BE%D0%BB/%D0%A1%D0%98%D0%90%D0%9E%D0%94/LR4.ipynb#ch0000015?line=9'>10</a>\u001b[0m     \u001b[39mprint\u001b[39m(queueNeg)\n\u001b[1;32m---> <a href='vscode-notebook-cell:/c%3A/Users/3007l/OneDrive/%D0%A0%D0%B0%D0%B1%D0%BE%D1%87%D0%B8%D0%B9%20%D1%81%D1%82%D0%BE%D0%BB/%D0%A1%D0%98%D0%90%D0%9E%D0%94/LR4.ipynb#ch0000015?line=10'>11</a>\u001b[0m groupNums()\n",
      "\u001b[1;32mc:\\Users\\3007l\\OneDrive\\Рабочий стол\\СИАОД\\LR4.ipynb Cell 16'\u001b[0m in \u001b[0;36mgroupNums\u001b[1;34m()\u001b[0m\n\u001b[0;32m      <a href='vscode-notebook-cell:/c%3A/Users/3007l/OneDrive/%D0%A0%D0%B0%D0%B1%D0%BE%D1%87%D0%B8%D0%B9%20%D1%81%D1%82%D0%BE%D0%BB/%D0%A1%D0%98%D0%90%D0%9E%D0%94/LR4.ipynb#ch0000015?line=4'>5</a>\u001b[0m queueNeg \u001b[39m=\u001b[39m deque([])\n\u001b[0;32m      <a href='vscode-notebook-cell:/c%3A/Users/3007l/OneDrive/%D0%A0%D0%B0%D0%B1%D0%BE%D1%87%D0%B8%D0%B9%20%D1%81%D1%82%D0%BE%D0%BB/%D0%A1%D0%98%D0%90%D0%9E%D0%94/LR4.ipynb#ch0000015?line=5'>6</a>\u001b[0m \u001b[39mfor\u001b[39;00m x \u001b[39min\u001b[39;00m \u001b[39mnext\u001b[39m(f)\u001b[39m.\u001b[39msplit(\u001b[39m\"\u001b[39m\u001b[39m;\u001b[39m\u001b[39m\"\u001b[39m):\n\u001b[0;32m      <a href='vscode-notebook-cell:/c%3A/Users/3007l/OneDrive/%D0%A0%D0%B0%D0%B1%D0%BE%D1%87%D0%B8%D0%B9%20%D1%81%D1%82%D0%BE%D0%BB/%D0%A1%D0%98%D0%90%D0%9E%D0%94/LR4.ipynb#ch0000015?line=6'>7</a>\u001b[0m      \u001b[39m#если положительные, то дополняем соответствующий дек\u001b[39;00m\n\u001b[1;32m----> <a href='vscode-notebook-cell:/c%3A/Users/3007l/OneDrive/%D0%A0%D0%B0%D0%B1%D0%BE%D1%87%D0%B8%D0%B9%20%D1%81%D1%82%D0%BE%D0%BB/%D0%A1%D0%98%D0%90%D0%9E%D0%94/LR4.ipynb#ch0000015?line=7'>8</a>\u001b[0m     queuePos\u001b[39m.\u001b[39mappend(\u001b[39mint\u001b[39m(x)) \u001b[39mif\u001b[39;00m \u001b[39mint\u001b[39;49m(x) \u001b[39m>\u001b[39m \u001b[39m0\u001b[39m \u001b[39melse\u001b[39;00m queueNeg\u001b[39m.\u001b[39mappend(\u001b[39mint\u001b[39m(x)) \n\u001b[0;32m      <a href='vscode-notebook-cell:/c%3A/Users/3007l/OneDrive/%D0%A0%D0%B0%D0%B1%D0%BE%D1%87%D0%B8%D0%B9%20%D1%81%D1%82%D0%BE%D0%BB/%D0%A1%D0%98%D0%90%D0%9E%D0%94/LR4.ipynb#ch0000015?line=8'>9</a>\u001b[0m queueNeg\u001b[39m.\u001b[39mextend(queuePos) \u001b[39m#склеиваем два дека\u001b[39;00m\n\u001b[0;32m     <a href='vscode-notebook-cell:/c%3A/Users/3007l/OneDrive/%D0%A0%D0%B0%D0%B1%D0%BE%D1%87%D0%B8%D0%B9%20%D1%81%D1%82%D0%BE%D0%BB/%D0%A1%D0%98%D0%90%D0%9E%D0%94/LR4.ipynb#ch0000015?line=9'>10</a>\u001b[0m \u001b[39mprint\u001b[39m(queueNeg)\n",
      "\u001b[1;31mValueError\u001b[0m: invalid literal for int() with base 10: '1 2 3 4 6 5'"
     ]
    }
   ],
   "source": [
    "from collections import deque\n",
    "def groupNums():\n",
    "    f = open('zadanie7.txt', 'r', encoding=\"utf-8\")\n",
    "    queuePos = deque([])\n",
    "    queueNeg = deque([])\n",
    "    for x in next(f).split(\";\"):\n",
    "         #если положительные, то дополняем соответствующий дек\n",
    "        queuePos.append(int(x)) if int(x) > 0 else queueNeg.append(int(x)) \n",
    "    queueNeg.extend(queuePos) #склеиваем два дека\n",
    "    print(queueNeg)\n",
    "groupNums()"
   ]
  },
  {
   "cell_type": "markdown",
   "id": "b9228191",
   "metadata": {},
   "source": [
    "### Задание №8\n",
    "Дан текстовый файл. Используя стек, сформировать новый текстовый файл, содержащий строки исходного файла, записанные в обратном порядке: первая строка становится последней, вторая – предпоследней и т.д."
   ]
  },
  {
   "cell_type": "code",
   "execution_count": null,
   "id": "981fbdfe",
   "metadata": {},
   "outputs": [
    {
     "name": "stdout",
     "output_type": "stream",
     "text": [
      "То чудится тебе…\n",
      " Теснят твою всечасно грудь.\n",
      " Тоска, предчувствия, заботы\n",
      " На черный отдаленный путь:\n",
      " Глядишь в забытые вороты\n",
      " \n",
      " В твоих наморщенных руках.\n",
      " И медлят поминутно спицы\n",
      " Горюешь, будто на часах,\n",
      " Ты под окном своей светлицы\n",
      " \n",
      " Давно, давно ты ждешь меня.\n",
      " Одна в глуши лесов сосновых\n",
      " Голубка дряхлая моя!\n",
      " Подруга дней моих суровых,\n",
      " Няне\n",
      "\n"
     ]
    }
   ],
   "source": [
    "class Node:\n",
    "    def __init__(self, value):\n",
    "        self.value = value\n",
    "        self.next = None\n",
    " \n",
    " \n",
    "class Stack:\n",
    " \n",
    "    # конструктор\n",
    "    def __init__(self, name):\n",
    "        self.head = Node(\"head\")\n",
    "        self.size = 0\n",
    "        self.name = name\n",
    "\n",
    "    def __str__(self):\n",
    "        cur = self.head.next\n",
    "        out = \"\"\n",
    "        while cur:\n",
    "            out += str(cur.value) + \" \"\n",
    "            cur = cur.next\n",
    "        return out[:-1]\n",
    "\n",
    "    # получить размер стека\n",
    "    def getSize(self):\n",
    "        return self.size\n",
    " \n",
    "    # проверка на пустоту\n",
    "    def isEmpty(self):\n",
    "        return self.size == 0\n",
    " \n",
    "    # получить последнее значение\n",
    "    def peek(self):\n",
    "        if self.isEmpty():\n",
    "            raise Exception(\"Peeking from an empty stack\")\n",
    "        return self.head.next.value\n",
    " \n",
    "    # поместить значение в стек\n",
    "    def push(self, value):\n",
    "        node = Node(value)\n",
    "        node.next = self.head.next\n",
    "        self.head.next = node\n",
    "        self.size += 1\n",
    " \n",
    "    # Вернуть последнее знаечние в стеке и удалить его\n",
    "    def pop(self):\n",
    "        if self.isEmpty():\n",
    "            raise Exception(\"Popping from an empty stack\")\n",
    "        remove = self.head.next\n",
    "        self.head.next = self.head.next.next\n",
    "        self.size -= 1\n",
    "        return remove.value\n",
    "\n",
    "def inverseLines ():\n",
    "    stack = Stack(\"inversed lines\")\n",
    "    f = open('zadanie8.txt', 'r', encoding=\"utf-8\")\n",
    "    for line in f:\n",
    "        stack.push(line) #записываем каждую строку в стек\n",
    "    print(stack) #выводим стек в виде строки\n",
    "inverseLines()"
   ]
  },
  {
   "cell_type": "markdown",
   "id": "rental-jerusalem",
   "metadata": {},
   "source": [
    "### Вывод\n"
   ]
  },
  {
   "cell_type": "markdown",
   "id": "0c2b8899",
   "metadata": {},
   "source": []
  }
 ],
 "metadata": {
  "kernelspec": {
   "display_name": "Python 3 (ipykernel)",
   "language": "python",
   "name": "python3"
  },
  "language_info": {
   "codemirror_mode": {
    "name": "ipython",
    "version": 3
   },
   "file_extension": ".py",
   "mimetype": "text/x-python",
   "name": "python",
   "nbconvert_exporter": "python",
   "pygments_lexer": "ipython3",
   "version": "3.10.4"
  }
 },
 "nbformat": 4,
 "nbformat_minor": 5
}
