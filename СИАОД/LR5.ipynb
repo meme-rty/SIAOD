{
  "cells": [
    {
      "cell_type": "markdown",
      "metadata": {
        "id": "WPvB9TcMmKA6"
      },
      "source": [
        "# Лабораторная работа №5\n",
        "# Рекурсия. Фракталы."
      ]
    },
    {
      "cell_type": "markdown",
      "metadata": {
        "id": "96Gi_LEvmSVH"
      },
      "source": [
        "## Выполнил студент группы БСТ2004 \n",
        "## Шадюк М.Р.\n",
        "***"
      ]
    },
    {
      "cell_type": "markdown",
      "metadata": {
        "id": "4clYOyb0mbEv"
      },
      "source": [
        "### Задание:\n",
        "Реализовать генерацию заданного типа фрактала с применением рекурсивных функций.\n",
        "\n",
        "\n",
        "Добавить возможность задания глубины фрактала. \n",
        "\n",
        "\n",
        "Оценить глубину рекурсии. \n",
        "\n",
        "\n",
        "Построить таблицу зависимости времени построения от глубины фрактала."
      ]
    },
    {
      "cell_type": "markdown",
      "metadata": {
        "id": "wDXHbUmMmhRL"
      },
      "source": [
        "### Варианты заданий:\n",
        "\n",
        "Вариант | Задание\n",
        ":-------- |:-----\n",
        "1, 7, 13, 19, 25 | Кривая Коха\n",
        "2, 8, 14, 20, 26 | Кривая Гильберта\n",
        "3, 9,15,21,27 | Кривая Серпинского\n",
        "4, 10, 16, 22, 28 | Салфетка Серпинского\n",
        "5, 11, 17, 23, 29| Ковер Серпинского\n",
        "6, 12, 18, 24, 30 | Дерево Пифагора \n"
      ]
    },
    {
      "cell_type": "markdown",
      "metadata": {
        "id": "Wggfn8l7nG72"
      },
      "source": [
        "### Выполнение:"
      ]
    },
    {
      "cell_type": "code",
      "execution_count": 24,
      "metadata": {
        "id": "681a95mZnOSa"
      },
      "outputs": [
        {
          "name": "stdout",
          "output_type": "stream",
          "text": [
            "время: 5.409862279891968\n"
          ]
        }
      ],
      "source": [
        "import turtle\n",
        "import time\n",
        "\n",
        "def sierpinski_triangle(n, size):\n",
        "    if n >= 0:\n",
        "        sierpinski_triangle(n-1, size / 2)\n",
        "        turtle.forward(size / 2)\n",
        "\n",
        "        sierpinski_triangle(n-1, size / 2)\n",
        "        turtle.forward(size / 2)\n",
        "        turtle.left(120)\n",
        "        turtle.forward(size / 2)\n",
        "\n",
        "        sierpinski_triangle(n-1, size / 2)\n",
        "        turtle.forward(size / 2)\n",
        "        turtle.left(120)\n",
        "        turtle.forward(size)\n",
        "        turtle.left(120)\n",
        "\n",
        "start=time.time()\n",
        "turtle.speed(1000)\n",
        "sierpinski_triangle(3, 400)\n",
        "result=time.time() - start\n",
        "print(f\"время: {result}\")\n",
        "turtle.done()"
      ]
    },
    {
      "cell_type": "markdown",
      "metadata": {
        "id": "diOb-K7LnO5a"
      },
      "source": [
        "### Вывод"
      ]
    }
  ],
  "metadata": {
    "colab": {
      "collapsed_sections": [],
      "name": "Lab5.ipynb",
      "provenance": []
    },
    "kernelspec": {
      "display_name": "Python 3",
      "name": "python3"
    },
    "language_info": {
      "codemirror_mode": {
        "name": "ipython",
        "version": 3
      },
      "file_extension": ".py",
      "mimetype": "text/x-python",
      "name": "python",
      "nbconvert_exporter": "python",
      "pygments_lexer": "ipython3",
      "version": "3.10.4"
    }
  },
  "nbformat": 4,
  "nbformat_minor": 0
}
